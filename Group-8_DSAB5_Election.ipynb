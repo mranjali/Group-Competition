{
 "cells": [
  {
   "cell_type": "markdown",
   "id": "fe750065",
   "metadata": {},
   "source": [
    "# GROUP COMPETITION   { TOPIC : ELECTION (Group 8) }"
   ]
  },
  {
   "cell_type": "code",
   "execution_count": 1,
   "id": "abf3f64b",
   "metadata": {},
   "outputs": [],
   "source": [
    "# import libraries\n",
    "import numpy as np\n",
    "import pandas as pd\n",
    "import seaborn as sns\n",
    "import matplotlib.pyplot as plt"
   ]
  },
  {
   "cell_type": "markdown",
   "id": "4c94c852",
   "metadata": {},
   "source": [
    "## 1. Data collection"
   ]
  },
  {
   "cell_type": "code",
   "execution_count": 2,
   "id": "ed0736e9",
   "metadata": {},
   "outputs": [
    {
     "data": {
      "text/html": [
       "<div>\n",
       "<style scoped>\n",
       "    .dataframe tbody tr th:only-of-type {\n",
       "        vertical-align: middle;\n",
       "    }\n",
       "\n",
       "    .dataframe tbody tr th {\n",
       "        vertical-align: top;\n",
       "    }\n",
       "\n",
       "    .dataframe thead th {\n",
       "        text-align: right;\n",
       "    }\n",
       "</style>\n",
       "<table border=\"1\" class=\"dataframe\">\n",
       "  <thead>\n",
       "    <tr style=\"text-align: right;\">\n",
       "      <th></th>\n",
       "      <th>STATE</th>\n",
       "      <th>CONSTITUENCY</th>\n",
       "      <th>NAME</th>\n",
       "      <th>WINNER</th>\n",
       "      <th>PARTY</th>\n",
       "      <th>SYMBOL</th>\n",
       "      <th>GENDER</th>\n",
       "      <th>CRIMINAL\\nCASES</th>\n",
       "      <th>AGE</th>\n",
       "      <th>CATEGORY</th>\n",
       "      <th>EDUCATION</th>\n",
       "      <th>ASSETS</th>\n",
       "      <th>LIABILITIES</th>\n",
       "      <th>GENERAL\\nVOTES</th>\n",
       "      <th>POSTAL\\nVOTES</th>\n",
       "      <th>TOTAL\\nVOTES</th>\n",
       "      <th>OVER TOTAL ELECTORS \\nIN CONSTITUENCY</th>\n",
       "      <th>OVER TOTAL VOTES POLLED \\nIN CONSTITUENCY</th>\n",
       "      <th>TOTAL ELECTORS</th>\n",
       "    </tr>\n",
       "  </thead>\n",
       "  <tbody>\n",
       "    <tr>\n",
       "      <th>0</th>\n",
       "      <td>Telangana</td>\n",
       "      <td>ADILABAD</td>\n",
       "      <td>SOYAM BAPU RAO</td>\n",
       "      <td>1</td>\n",
       "      <td>BJP</td>\n",
       "      <td>Lotus</td>\n",
       "      <td>MALE</td>\n",
       "      <td>52</td>\n",
       "      <td>52.0</td>\n",
       "      <td>ST</td>\n",
       "      <td>12th Pass</td>\n",
       "      <td>Rs 30,99,414\\n ~ 30 Lacs+</td>\n",
       "      <td>Rs 2,31,450\\n ~ 2 Lacs+</td>\n",
       "      <td>376892</td>\n",
       "      <td>482</td>\n",
       "      <td>377374</td>\n",
       "      <td>25.330684</td>\n",
       "      <td>35.468248</td>\n",
       "      <td>1489790</td>\n",
       "    </tr>\n",
       "    <tr>\n",
       "      <th>1</th>\n",
       "      <td>Telangana</td>\n",
       "      <td>ADILABAD</td>\n",
       "      <td>Godam Nagesh</td>\n",
       "      <td>0</td>\n",
       "      <td>TRS</td>\n",
       "      <td>Car</td>\n",
       "      <td>MALE</td>\n",
       "      <td>0</td>\n",
       "      <td>54.0</td>\n",
       "      <td>ST</td>\n",
       "      <td>Post Graduate</td>\n",
       "      <td>Rs 1,84,77,888\\n ~ 1 Crore+</td>\n",
       "      <td>Rs 8,47,000\\n ~ 8 Lacs+</td>\n",
       "      <td>318665</td>\n",
       "      <td>149</td>\n",
       "      <td>318814</td>\n",
       "      <td>21.399929</td>\n",
       "      <td>29.964370</td>\n",
       "      <td>1489790</td>\n",
       "    </tr>\n",
       "    <tr>\n",
       "      <th>2</th>\n",
       "      <td>Telangana</td>\n",
       "      <td>ADILABAD</td>\n",
       "      <td>RATHOD RAMESH</td>\n",
       "      <td>0</td>\n",
       "      <td>INC</td>\n",
       "      <td>Hand</td>\n",
       "      <td>MALE</td>\n",
       "      <td>3</td>\n",
       "      <td>52.0</td>\n",
       "      <td>ST</td>\n",
       "      <td>12th Pass</td>\n",
       "      <td>Rs 3,64,91,000\\n ~ 3 Crore+</td>\n",
       "      <td>Rs 1,53,00,000\\n ~ 1 Crore+</td>\n",
       "      <td>314057</td>\n",
       "      <td>181</td>\n",
       "      <td>314238</td>\n",
       "      <td>21.092771</td>\n",
       "      <td>29.534285</td>\n",
       "      <td>1489790</td>\n",
       "    </tr>\n",
       "    <tr>\n",
       "      <th>3</th>\n",
       "      <td>Telangana</td>\n",
       "      <td>ADILABAD</td>\n",
       "      <td>NOTA</td>\n",
       "      <td>0</td>\n",
       "      <td>NOTA</td>\n",
       "      <td>NaN</td>\n",
       "      <td>NaN</td>\n",
       "      <td>NaN</td>\n",
       "      <td>NaN</td>\n",
       "      <td>NaN</td>\n",
       "      <td>NaN</td>\n",
       "      <td>NaN</td>\n",
       "      <td>NaN</td>\n",
       "      <td>13030</td>\n",
       "      <td>6</td>\n",
       "      <td>13036</td>\n",
       "      <td>0.875023</td>\n",
       "      <td>1.225214</td>\n",
       "      <td>1489790</td>\n",
       "    </tr>\n",
       "    <tr>\n",
       "      <th>4</th>\n",
       "      <td>Uttar Pradesh</td>\n",
       "      <td>AGRA</td>\n",
       "      <td>Satyapal Singh Baghel</td>\n",
       "      <td>1</td>\n",
       "      <td>BJP</td>\n",
       "      <td>Lotus</td>\n",
       "      <td>MALE</td>\n",
       "      <td>5</td>\n",
       "      <td>58.0</td>\n",
       "      <td>SC</td>\n",
       "      <td>Doctorate</td>\n",
       "      <td>Rs 7,42,74,036\\n ~ 7 Crore+</td>\n",
       "      <td>Rs 86,06,522\\n ~ 86 Lacs+</td>\n",
       "      <td>644459</td>\n",
       "      <td>2416</td>\n",
       "      <td>646875</td>\n",
       "      <td>33.383823</td>\n",
       "      <td>56.464615</td>\n",
       "      <td>1937690</td>\n",
       "    </tr>\n",
       "  </tbody>\n",
       "</table>\n",
       "</div>"
      ],
      "text/plain": [
       "           STATE CONSTITUENCY                   NAME  WINNER PARTY SYMBOL  \\\n",
       "0      Telangana     ADILABAD         SOYAM BAPU RAO       1   BJP  Lotus   \n",
       "1      Telangana     ADILABAD           Godam Nagesh       0   TRS    Car   \n",
       "2      Telangana     ADILABAD          RATHOD RAMESH       0   INC   Hand   \n",
       "3      Telangana     ADILABAD                   NOTA       0  NOTA    NaN   \n",
       "4  Uttar Pradesh         AGRA  Satyapal Singh Baghel       1   BJP  Lotus   \n",
       "\n",
       "  GENDER CRIMINAL\\nCASES   AGE CATEGORY      EDUCATION  \\\n",
       "0   MALE              52  52.0       ST      12th Pass   \n",
       "1   MALE               0  54.0       ST  Post Graduate   \n",
       "2   MALE               3  52.0       ST      12th Pass   \n",
       "3    NaN             NaN   NaN      NaN            NaN   \n",
       "4   MALE               5  58.0       SC      Doctorate   \n",
       "\n",
       "                        ASSETS                  LIABILITIES  GENERAL\\nVOTES  \\\n",
       "0    Rs 30,99,414\\n ~ 30 Lacs+      Rs 2,31,450\\n ~ 2 Lacs+          376892   \n",
       "1  Rs 1,84,77,888\\n ~ 1 Crore+      Rs 8,47,000\\n ~ 8 Lacs+          318665   \n",
       "2  Rs 3,64,91,000\\n ~ 3 Crore+  Rs 1,53,00,000\\n ~ 1 Crore+          314057   \n",
       "3                          NaN                          NaN           13030   \n",
       "4  Rs 7,42,74,036\\n ~ 7 Crore+    Rs 86,06,522\\n ~ 86 Lacs+          644459   \n",
       "\n",
       "   POSTAL\\nVOTES  TOTAL\\nVOTES  OVER TOTAL ELECTORS \\nIN CONSTITUENCY  \\\n",
       "0            482        377374                              25.330684   \n",
       "1            149        318814                              21.399929   \n",
       "2            181        314238                              21.092771   \n",
       "3              6         13036                               0.875023   \n",
       "4           2416        646875                              33.383823   \n",
       "\n",
       "   OVER TOTAL VOTES POLLED \\nIN CONSTITUENCY  TOTAL ELECTORS  \n",
       "0                                  35.468248         1489790  \n",
       "1                                  29.964370         1489790  \n",
       "2                                  29.534285         1489790  \n",
       "3                                   1.225214         1489790  \n",
       "4                                  56.464615         1937690  "
      ]
     },
     "execution_count": 2,
     "metadata": {},
     "output_type": "execute_result"
    }
   ],
   "source": [
    "#read data set\n",
    "data=pd.read_csv('election_data.csv')\n",
    "# See initial 5 records\n",
    "data.head(5)"
   ]
  },
  {
   "cell_type": "code",
   "execution_count": 3,
   "id": "c099ae16",
   "metadata": {},
   "outputs": [
    {
     "data": {
      "text/html": [
       "<div>\n",
       "<style scoped>\n",
       "    .dataframe tbody tr th:only-of-type {\n",
       "        vertical-align: middle;\n",
       "    }\n",
       "\n",
       "    .dataframe tbody tr th {\n",
       "        vertical-align: top;\n",
       "    }\n",
       "\n",
       "    .dataframe thead th {\n",
       "        text-align: right;\n",
       "    }\n",
       "</style>\n",
       "<table border=\"1\" class=\"dataframe\">\n",
       "  <thead>\n",
       "    <tr style=\"text-align: right;\">\n",
       "      <th></th>\n",
       "      <th>STATE</th>\n",
       "      <th>CONSTITUENCY</th>\n",
       "      <th>NAME</th>\n",
       "      <th>WINNER</th>\n",
       "      <th>PARTY</th>\n",
       "      <th>SYMBOL</th>\n",
       "      <th>GENDER</th>\n",
       "      <th>CRIMINAL\\nCASES</th>\n",
       "      <th>AGE</th>\n",
       "      <th>CATEGORY</th>\n",
       "      <th>EDUCATION</th>\n",
       "      <th>ASSETS</th>\n",
       "      <th>LIABILITIES</th>\n",
       "      <th>GENERAL\\nVOTES</th>\n",
       "      <th>POSTAL\\nVOTES</th>\n",
       "      <th>TOTAL\\nVOTES</th>\n",
       "      <th>OVER TOTAL ELECTORS \\nIN CONSTITUENCY</th>\n",
       "      <th>OVER TOTAL VOTES POLLED \\nIN CONSTITUENCY</th>\n",
       "      <th>TOTAL ELECTORS</th>\n",
       "    </tr>\n",
       "  </thead>\n",
       "  <tbody>\n",
       "    <tr>\n",
       "      <th>2258</th>\n",
       "      <td>Maharashtra</td>\n",
       "      <td>YAVATMAL-WASHIM</td>\n",
       "      <td>Anil Jayram Rathod</td>\n",
       "      <td>0</td>\n",
       "      <td>IND</td>\n",
       "      <td>SHIP</td>\n",
       "      <td>MALE</td>\n",
       "      <td>0</td>\n",
       "      <td>43.0</td>\n",
       "      <td>GENERAL</td>\n",
       "      <td>Post Graduate</td>\n",
       "      <td>Rs 48,90,000\\n ~ 48 Lacs+</td>\n",
       "      <td>Rs 10,20,000\\n ~ 10 Lacs+</td>\n",
       "      <td>14661</td>\n",
       "      <td>25</td>\n",
       "      <td>14686</td>\n",
       "      <td>0.766419</td>\n",
       "      <td>1.250060</td>\n",
       "      <td>1916185</td>\n",
       "    </tr>\n",
       "    <tr>\n",
       "      <th>2259</th>\n",
       "      <td>Telangana</td>\n",
       "      <td>ZAHIRABAD</td>\n",
       "      <td>B.B.PATIL</td>\n",
       "      <td>1</td>\n",
       "      <td>TRS</td>\n",
       "      <td>Car</td>\n",
       "      <td>MALE</td>\n",
       "      <td>18</td>\n",
       "      <td>63.0</td>\n",
       "      <td>GENERAL</td>\n",
       "      <td>Graduate</td>\n",
       "      <td>Rs 1,28,78,51,556\\n ~ 128 Crore+</td>\n",
       "      <td>Rs 1,15,35,000\\n ~ 1 Crore+</td>\n",
       "      <td>434066</td>\n",
       "      <td>178</td>\n",
       "      <td>434244</td>\n",
       "      <td>28.975369</td>\n",
       "      <td>41.574183</td>\n",
       "      <td>1498666</td>\n",
       "    </tr>\n",
       "    <tr>\n",
       "      <th>2260</th>\n",
       "      <td>Telangana</td>\n",
       "      <td>ZAHIRABAD</td>\n",
       "      <td>MADAN MOHAN RAO</td>\n",
       "      <td>0</td>\n",
       "      <td>INC</td>\n",
       "      <td>Hand</td>\n",
       "      <td>MALE</td>\n",
       "      <td>0</td>\n",
       "      <td>49.0</td>\n",
       "      <td>GENERAL</td>\n",
       "      <td>Post Graduate</td>\n",
       "      <td>Rs 90,36,63,001\\n ~ 90 Crore+</td>\n",
       "      <td>Rs 0\\n ~</td>\n",
       "      <td>427900</td>\n",
       "      <td>115</td>\n",
       "      <td>428015</td>\n",
       "      <td>28.559732</td>\n",
       "      <td>40.977823</td>\n",
       "      <td>1498666</td>\n",
       "    </tr>\n",
       "    <tr>\n",
       "      <th>2261</th>\n",
       "      <td>Telangana</td>\n",
       "      <td>ZAHIRABAD</td>\n",
       "      <td>BANALA LAXMA REDDY</td>\n",
       "      <td>0</td>\n",
       "      <td>BJP</td>\n",
       "      <td>Lotus</td>\n",
       "      <td>MALE</td>\n",
       "      <td>3</td>\n",
       "      <td>47.0</td>\n",
       "      <td>GENERAL</td>\n",
       "      <td>12th Pass</td>\n",
       "      <td>Rs 5,85,77,327\\n ~ 5 Crore+</td>\n",
       "      <td>Rs 52,50,000\\n ~ 52 Lacs+</td>\n",
       "      <td>138731</td>\n",
       "      <td>216</td>\n",
       "      <td>138947</td>\n",
       "      <td>9.271379</td>\n",
       "      <td>13.302678</td>\n",
       "      <td>1498666</td>\n",
       "    </tr>\n",
       "    <tr>\n",
       "      <th>2262</th>\n",
       "      <td>Telangana</td>\n",
       "      <td>ZAHIRABAD</td>\n",
       "      <td>NOTA</td>\n",
       "      <td>0</td>\n",
       "      <td>NOTA</td>\n",
       "      <td>NaN</td>\n",
       "      <td>NaN</td>\n",
       "      <td>NaN</td>\n",
       "      <td>NaN</td>\n",
       "      <td>NaN</td>\n",
       "      <td>NaN</td>\n",
       "      <td>NaN</td>\n",
       "      <td>NaN</td>\n",
       "      <td>11138</td>\n",
       "      <td>2</td>\n",
       "      <td>11140</td>\n",
       "      <td>0.743328</td>\n",
       "      <td>1.066535</td>\n",
       "      <td>1498666</td>\n",
       "    </tr>\n",
       "  </tbody>\n",
       "</table>\n",
       "</div>"
      ],
      "text/plain": [
       "            STATE     CONSTITUENCY                NAME  WINNER PARTY SYMBOL  \\\n",
       "2258  Maharashtra  YAVATMAL-WASHIM  Anil Jayram Rathod       0   IND   SHIP   \n",
       "2259    Telangana        ZAHIRABAD           B.B.PATIL       1   TRS    Car   \n",
       "2260    Telangana        ZAHIRABAD     MADAN MOHAN RAO       0   INC   Hand   \n",
       "2261    Telangana        ZAHIRABAD  BANALA LAXMA REDDY       0   BJP  Lotus   \n",
       "2262    Telangana        ZAHIRABAD                NOTA       0  NOTA    NaN   \n",
       "\n",
       "     GENDER CRIMINAL\\nCASES   AGE CATEGORY      EDUCATION  \\\n",
       "2258   MALE               0  43.0  GENERAL  Post Graduate   \n",
       "2259   MALE              18  63.0  GENERAL       Graduate   \n",
       "2260   MALE               0  49.0  GENERAL  Post Graduate   \n",
       "2261   MALE               3  47.0  GENERAL      12th Pass   \n",
       "2262    NaN             NaN   NaN      NaN            NaN   \n",
       "\n",
       "                                ASSETS                  LIABILITIES  \\\n",
       "2258         Rs 48,90,000\\n ~ 48 Lacs+    Rs 10,20,000\\n ~ 10 Lacs+   \n",
       "2259  Rs 1,28,78,51,556\\n ~ 128 Crore+  Rs 1,15,35,000\\n ~ 1 Crore+   \n",
       "2260     Rs 90,36,63,001\\n ~ 90 Crore+                     Rs 0\\n ~   \n",
       "2261       Rs 5,85,77,327\\n ~ 5 Crore+    Rs 52,50,000\\n ~ 52 Lacs+   \n",
       "2262                               NaN                          NaN   \n",
       "\n",
       "      GENERAL\\nVOTES  POSTAL\\nVOTES  TOTAL\\nVOTES  \\\n",
       "2258           14661             25         14686   \n",
       "2259          434066            178        434244   \n",
       "2260          427900            115        428015   \n",
       "2261          138731            216        138947   \n",
       "2262           11138              2         11140   \n",
       "\n",
       "      OVER TOTAL ELECTORS \\nIN CONSTITUENCY  \\\n",
       "2258                               0.766419   \n",
       "2259                              28.975369   \n",
       "2260                              28.559732   \n",
       "2261                               9.271379   \n",
       "2262                               0.743328   \n",
       "\n",
       "      OVER TOTAL VOTES POLLED \\nIN CONSTITUENCY  TOTAL ELECTORS  \n",
       "2258                                   1.250060         1916185  \n",
       "2259                                  41.574183         1498666  \n",
       "2260                                  40.977823         1498666  \n",
       "2261                                  13.302678         1498666  \n",
       "2262                                   1.066535         1498666  "
      ]
     },
     "execution_count": 3,
     "metadata": {},
     "output_type": "execute_result"
    }
   ],
   "source": [
    "#Display last 5 rows\n",
    "data.tail(5)"
   ]
  },
  {
   "cell_type": "code",
   "execution_count": 4,
   "id": "87e732d9",
   "metadata": {},
   "outputs": [
    {
     "name": "stdout",
     "output_type": "stream",
     "text": [
      "Index(['STATE', 'CONSTITUENCY', 'NAME', 'WINNER', 'PARTY', 'SYMBOL', 'GENDER',\n",
      "       'CRIMINAL\\nCASES', 'AGE', 'CATEGORY', 'EDUCATION', 'ASSETS',\n",
      "       'LIABILITIES', 'GENERAL\\nVOTES', 'POSTAL\\nVOTES', 'TOTAL\\nVOTES',\n",
      "       'OVER TOTAL ELECTORS \\nIN CONSTITUENCY',\n",
      "       'OVER TOTAL VOTES POLLED \\nIN CONSTITUENCY', 'TOTAL ELECTORS'],\n",
      "      dtype='object')\n"
     ]
    }
   ],
   "source": [
    "# Print list of columns in the data\n",
    "print(data.columns)"
   ]
  },
  {
   "cell_type": "code",
   "execution_count": 5,
   "id": "832b673b",
   "metadata": {},
   "outputs": [
    {
     "name": "stdout",
     "output_type": "stream",
     "text": [
      "(2263, 19)\n"
     ]
    }
   ],
   "source": [
    "# Print the shape of a DataFrame\n",
    "print(data.shape)"
   ]
  },
  {
   "cell_type": "markdown",
   "id": "5168f776",
   "metadata": {},
   "source": [
    "Size of dataset = (2263 x 19) >  (2000,10)"
   ]
  },
  {
   "cell_type": "markdown",
   "id": "e8862afa",
   "metadata": {},
   "source": [
    "## 2. Data Preprocessing"
   ]
  },
  {
   "cell_type": "markdown",
   "id": "6392e127",
   "metadata": {},
   "source": [
    "### 2.4 Feature Reduction and Processing"
   ]
  },
  {
   "cell_type": "code",
   "execution_count": 6,
   "id": "44d97cc2",
   "metadata": {},
   "outputs": [
    {
     "data": {
      "text/plain": [
       "Index(['WINNER', 'PARTY', 'GENDER', 'CRIMINAL\\nCASES', 'AGE', 'CATEGORY',\n",
       "       'EDUCATION', 'ASSETS', 'LIABILITIES', 'TOTAL ELECTORS'],\n",
       "      dtype='object')"
      ]
     },
     "execution_count": 6,
     "metadata": {},
     "output_type": "execute_result"
    }
   ],
   "source": [
    "data.drop(['STATE', 'CONSTITUENCY', 'NAME', 'SYMBOL',\n",
    "        'GENERAL\\nVOTES', 'POSTAL\\nVOTES','TOTAL\\nVOTES', \n",
    "       'OVER TOTAL ELECTORS \\nIN CONSTITUENCY',\n",
    "       'OVER TOTAL VOTES POLLED \\nIN CONSTITUENCY'],axis=1,inplace = True)\n",
    "data.columns"
   ]
  },
  {
   "cell_type": "code",
   "execution_count": 7,
   "id": "ed5c55df",
   "metadata": {},
   "outputs": [],
   "source": [
    "#cleaning data for liability column\n",
    "data['LIABILITIES'].replace(['Not Available','Nil','NIL',np.nan,'~','Telangana'],'0',inplace=True)\n",
    "a=data['LIABILITIES'].apply(lambda x:x.split()[1] if len(x.split())>1 else x.split()[0])\n",
    "b = a.apply(lambda x:x.split(','))\n",
    "c = b.apply(lambda x:''.join(x))\n",
    "data['LIABILITIES']=c\n",
    "data['LIABILITIES'] = data['LIABILITIES'].astype(int)"
   ]
  },
  {
   "cell_type": "code",
   "execution_count": 8,
   "id": "b19b9d3b",
   "metadata": {},
   "outputs": [
    {
     "data": {
      "text/plain": [
       "WINNER               int64\n",
       "PARTY               object\n",
       "GENDER              object\n",
       "CRIMINAL\\nCASES     object\n",
       "AGE                float64\n",
       "CATEGORY            object\n",
       "EDUCATION           object\n",
       "ASSETS              object\n",
       "LIABILITIES          int32\n",
       "TOTAL ELECTORS       int64\n",
       "dtype: object"
      ]
     },
     "execution_count": 8,
     "metadata": {},
     "output_type": "execute_result"
    }
   ],
   "source": [
    "#show both numerical and categorical data present\n",
    "data.dtypes"
   ]
  },
  {
   "cell_type": "code",
   "execution_count": 9,
   "id": "9e2849ea",
   "metadata": {},
   "outputs": [
    {
     "data": {
      "text/html": [
       "<div>\n",
       "<style scoped>\n",
       "    .dataframe tbody tr th:only-of-type {\n",
       "        vertical-align: middle;\n",
       "    }\n",
       "\n",
       "    .dataframe tbody tr th {\n",
       "        vertical-align: top;\n",
       "    }\n",
       "\n",
       "    .dataframe thead th {\n",
       "        text-align: right;\n",
       "    }\n",
       "</style>\n",
       "<table border=\"1\" class=\"dataframe\">\n",
       "  <thead>\n",
       "    <tr style=\"text-align: right;\">\n",
       "      <th></th>\n",
       "      <th>WINNER</th>\n",
       "      <th>PARTY</th>\n",
       "      <th>GENDER</th>\n",
       "      <th>CRIMINAL_CASES</th>\n",
       "      <th>AGE</th>\n",
       "      <th>CATEGORY</th>\n",
       "      <th>EDUCATION</th>\n",
       "      <th>ASSETS</th>\n",
       "      <th>LIABILITIES</th>\n",
       "      <th>TOTAL_ELECTORS</th>\n",
       "    </tr>\n",
       "  </thead>\n",
       "  <tbody>\n",
       "    <tr>\n",
       "      <th>0</th>\n",
       "      <td>1</td>\n",
       "      <td>BJP</td>\n",
       "      <td>MALE</td>\n",
       "      <td>52</td>\n",
       "      <td>52.0</td>\n",
       "      <td>ST</td>\n",
       "      <td>12th Pass</td>\n",
       "      <td>Rs 30,99,414\\n ~ 30 Lacs+</td>\n",
       "      <td>231450</td>\n",
       "      <td>1489790</td>\n",
       "    </tr>\n",
       "    <tr>\n",
       "      <th>1</th>\n",
       "      <td>0</td>\n",
       "      <td>TRS</td>\n",
       "      <td>MALE</td>\n",
       "      <td>0</td>\n",
       "      <td>54.0</td>\n",
       "      <td>ST</td>\n",
       "      <td>Post Graduate</td>\n",
       "      <td>Rs 1,84,77,888\\n ~ 1 Crore+</td>\n",
       "      <td>847000</td>\n",
       "      <td>1489790</td>\n",
       "    </tr>\n",
       "    <tr>\n",
       "      <th>2</th>\n",
       "      <td>0</td>\n",
       "      <td>INC</td>\n",
       "      <td>MALE</td>\n",
       "      <td>3</td>\n",
       "      <td>52.0</td>\n",
       "      <td>ST</td>\n",
       "      <td>12th Pass</td>\n",
       "      <td>Rs 3,64,91,000\\n ~ 3 Crore+</td>\n",
       "      <td>15300000</td>\n",
       "      <td>1489790</td>\n",
       "    </tr>\n",
       "    <tr>\n",
       "      <th>3</th>\n",
       "      <td>0</td>\n",
       "      <td>NOTA</td>\n",
       "      <td>NaN</td>\n",
       "      <td>NaN</td>\n",
       "      <td>NaN</td>\n",
       "      <td>NaN</td>\n",
       "      <td>NaN</td>\n",
       "      <td>NaN</td>\n",
       "      <td>0</td>\n",
       "      <td>1489790</td>\n",
       "    </tr>\n",
       "    <tr>\n",
       "      <th>4</th>\n",
       "      <td>1</td>\n",
       "      <td>BJP</td>\n",
       "      <td>MALE</td>\n",
       "      <td>5</td>\n",
       "      <td>58.0</td>\n",
       "      <td>SC</td>\n",
       "      <td>Doctorate</td>\n",
       "      <td>Rs 7,42,74,036\\n ~ 7 Crore+</td>\n",
       "      <td>8606522</td>\n",
       "      <td>1937690</td>\n",
       "    </tr>\n",
       "  </tbody>\n",
       "</table>\n",
       "</div>"
      ],
      "text/plain": [
       "   WINNER PARTY GENDER CRIMINAL_CASES   AGE CATEGORY      EDUCATION  \\\n",
       "0       1   BJP   MALE             52  52.0       ST      12th Pass   \n",
       "1       0   TRS   MALE              0  54.0       ST  Post Graduate   \n",
       "2       0   INC   MALE              3  52.0       ST      12th Pass   \n",
       "3       0  NOTA    NaN            NaN   NaN      NaN            NaN   \n",
       "4       1   BJP   MALE              5  58.0       SC      Doctorate   \n",
       "\n",
       "                        ASSETS  LIABILITIES  TOTAL_ELECTORS  \n",
       "0    Rs 30,99,414\\n ~ 30 Lacs+       231450         1489790  \n",
       "1  Rs 1,84,77,888\\n ~ 1 Crore+       847000         1489790  \n",
       "2  Rs 3,64,91,000\\n ~ 3 Crore+     15300000         1489790  \n",
       "3                          NaN            0         1489790  \n",
       "4  Rs 7,42,74,036\\n ~ 7 Crore+      8606522         1937690  "
      ]
     },
     "execution_count": 9,
     "metadata": {},
     "output_type": "execute_result"
    }
   ],
   "source": [
    "#renaming columns\n",
    "data.columns = ['WINNER', 'PARTY', 'GENDER', 'CRIMINAL_CASES', 'AGE', 'CATEGORY',\n",
    "       'EDUCATION', 'ASSETS', 'LIABILITIES', 'TOTAL_ELECTORS']\n",
    "data.head()"
   ]
  },
  {
   "cell_type": "markdown",
   "id": "f8967453",
   "metadata": {},
   "source": [
    "### 2.1 Missing value handling"
   ]
  },
  {
   "cell_type": "code",
   "execution_count": 10,
   "id": "e44f2ea9",
   "metadata": {},
   "outputs": [
    {
     "data": {
      "image/png": "[encoded data removed]",
      "text/plain": [
       "<Figure size 720x432 with 1 Axes>"
      ]
     },
     "metadata": {
      "needs_background": "light"
     },
     "output_type": "display_data"
    }
   ],
   "source": [
    "#visulaizing missing value columns\n",
    "plt.figure(figsize=(10,6))\n",
    "sns.heatmap(data.isnull(),yticklabels=False , cbar =False ,cmap ='summer')\n",
    "plt.show()"
   ]
  },
  {
   "cell_type": "code",
   "execution_count": 11,
   "id": "00d222b2",
   "metadata": {},
   "outputs": [
    {
     "data": {
      "text/plain": [
       "WINNER              0\n",
       "PARTY               0\n",
       "GENDER            245\n",
       "CRIMINAL_CASES    245\n",
       "AGE               245\n",
       "CATEGORY          245\n",
       "EDUCATION         245\n",
       "ASSETS            245\n",
       "LIABILITIES         0\n",
       "TOTAL_ELECTORS      0\n",
       "dtype: int64"
      ]
     },
     "execution_count": 11,
     "metadata": {},
     "output_type": "execute_result"
    }
   ],
   "source": [
    "#checking null values for each feature\n",
    "data.isnull().sum()"
   ]
  },
  {
   "cell_type": "markdown",
   "id": "d29bdd4a",
   "metadata": {},
   "source": [
    "There is a strong chance that some rows have missing data in many features\n",
    "\n",
    "even if we fill numerical values for criminal case, we cann't predict gender.\n",
    "\n",
    "so 245 rows are dropping"
   ]
  },
  {
   "cell_type": "code",
   "execution_count": 12,
   "id": "e7fb2b90",
   "metadata": {},
   "outputs": [
    {
     "data": {
      "text/plain": [
       "WINNER            0\n",
       "PARTY             0\n",
       "GENDER            0\n",
       "CRIMINAL_CASES    0\n",
       "AGE               0\n",
       "CATEGORY          0\n",
       "EDUCATION         0\n",
       "ASSETS            0\n",
       "LIABILITIES       0\n",
       "TOTAL_ELECTORS    0\n",
       "dtype: int64"
      ]
     },
     "execution_count": 12,
     "metadata": {},
     "output_type": "execute_result"
    }
   ],
   "source": [
    "#dropping null values\n",
    "data.dropna(inplace=True)\n",
    "data.isnull().sum()"
   ]
  },
  {
   "cell_type": "markdown",
   "id": "4270860f",
   "metadata": {},
   "source": [
    "now data is okay"
   ]
  },
  {
   "cell_type": "code",
   "execution_count": 13,
   "id": "370c1849",
   "metadata": {},
   "outputs": [
    {
     "name": "stdout",
     "output_type": "stream",
     "text": [
      "<class 'pandas.core.frame.DataFrame'>\n",
      "Int64Index: 2018 entries, 0 to 2261\n",
      "Data columns (total 10 columns):\n",
      " #   Column          Non-Null Count  Dtype  \n",
      "---  ------          --------------  -----  \n",
      " 0   WINNER          2018 non-null   int64  \n",
      " 1   PARTY           2018 non-null   object \n",
      " 2   GENDER          2018 non-null   object \n",
      " 3   CRIMINAL_CASES  2018 non-null   object \n",
      " 4   AGE             2018 non-null   float64\n",
      " 5   CATEGORY        2018 non-null   object \n",
      " 6   EDUCATION       2018 non-null   object \n",
      " 7   ASSETS          2018 non-null   object \n",
      " 8   LIABILITIES     2018 non-null   int32  \n",
      " 9   TOTAL_ELECTORS  2018 non-null   int64  \n",
      "dtypes: float64(1), int32(1), int64(2), object(6)\n",
      "memory usage: 165.5+ KB\n"
     ]
    }
   ],
   "source": [
    "#Now basic information of dataset\n",
    "data.info()"
   ]
  },
  {
   "cell_type": "code",
   "execution_count": 14,
   "id": "fd13f40c",
   "metadata": {},
   "outputs": [],
   "source": [
    "#criminal case feature has not available value\n",
    "data['CRIMINAL_CASES']=data['CRIMINAL_CASES'].apply(lambda x:0 if x=='Not Available' else x)"
   ]
  },
  {
   "cell_type": "markdown",
   "id": "f8b63b75",
   "metadata": {},
   "source": [
    "### 2.2 Outlier detection and handling"
   ]
  },
  {
   "cell_type": "code",
   "execution_count": 15,
   "id": "43cb9aa7",
   "metadata": {},
   "outputs": [
    {
     "data": {
      "image/png": "[encoded data removed]",
      "text/plain": [
       "<Figure size 432x288 with 1 Axes>"
      ]
     },
     "metadata": {
      "needs_background": "light"
     },
     "output_type": "display_data"
    }
   ],
   "source": [
    "# for finding outliers we can use boxplot\n",
    "# boxplot before removing the outliers\n",
    "plt.boxplot(data[\"AGE\"])\n",
    "plt.title('Boxplot for AGE')\n",
    "plt.show()"
   ]
  },
  {
   "cell_type": "markdown",
   "id": "b63832dc",
   "metadata": {},
   "source": [
    "No outliers"
   ]
  },
  {
   "cell_type": "code",
   "execution_count": 16,
   "id": "f58a5ca8",
   "metadata": {},
   "outputs": [
    {
     "data": {
      "image/png": "[encoded data removed]",
      "text/plain": [
       "<Figure size 432x288 with 1 Axes>"
      ]
     },
     "metadata": {
      "needs_background": "light"
     },
     "output_type": "display_data"
    }
   ],
   "source": [
    "plt.boxplot(data['LIABILITIES'])\n",
    "plt.title('Boxplot for LIABILITIES')\n",
    "plt.show()"
   ]
  },
  {
   "cell_type": "markdown",
   "id": "f7d13f61",
   "metadata": {},
   "source": [
    "outliers present"
   ]
  },
  {
   "cell_type": "code",
   "execution_count": 17,
   "id": "554672b5",
   "metadata": {},
   "outputs": [
    {
     "name": "stdout",
     "output_type": "stream",
     "text": [
      "0.0\n",
      "903924.5\n",
      "6095941.5\n"
     ]
    }
   ],
   "source": [
    "Q1 = np.percentile(data['LIABILITIES'],25,interpolation = 'midpoint' )\n",
    "Q2 = np.percentile(data['LIABILITIES'],50,interpolation = 'midpoint' )\n",
    "Q3 = np.percentile(data['LIABILITIES'],75,interpolation = 'midpoint' )\n",
    "print(Q1)\n",
    "print(Q2)\n",
    "print(Q3)"
   ]
  },
  {
   "cell_type": "code",
   "execution_count": 18,
   "id": "55545601",
   "metadata": {},
   "outputs": [
    {
     "data": {
      "text/plain": [
       "903924.5"
      ]
     },
     "execution_count": 18,
     "metadata": {},
     "output_type": "execute_result"
    }
   ],
   "source": [
    "data['LIABILITIES'].median()\n",
    "#same as Q2"
   ]
  },
  {
   "cell_type": "code",
   "execution_count": 19,
   "id": "810a5365",
   "metadata": {},
   "outputs": [
    {
     "name": "stdout",
     "output_type": "stream",
     "text": [
      "-9143912.25\n",
      "15239853.75\n"
     ]
    }
   ],
   "source": [
    "IQR = Q3-Q1\n",
    "low_lim = Q1-1.5*IQR\n",
    "Up_lim = Q3+1.5*IQR\n",
    "print(low_lim)\n",
    "print(Up_lim)"
   ]
  },
  {
   "cell_type": "code",
   "execution_count": 20,
   "id": "1c1409cb",
   "metadata": {},
   "outputs": [],
   "source": [
    "# remove values below  above \n",
    "# create a loop to remove"
   ]
  },
  {
   "cell_type": "code",
   "execution_count": 21,
   "id": "e3edd2e8",
   "metadata": {},
   "outputs": [
    {
     "name": "stdout",
     "output_type": "stream",
     "text": [
      "[15300000, 22251891, 32549132, 18943977, 306012685, 28095176, 24739098, 70576979, 79139288, 57940950, 19579691, 205591400, 110928567, 23667368, 84550726, 80450870, 166365972, 33409505, 20565404, 204955775, 17925000, 27622685, 31390310, 198464347, 26510293, 26784734, 29242618, 63341667, 1079582000, 312521957, 45079101, 38320377, 104302653, 15596951, 519320305, 34400000, 46548771, 15925213, 16881608, 954852600, 198479638, 225214094, 22231164, 21696413, 54880849, 19861338, 28346352, 24650224, 151084000, 45967727, 24069129, 42963534, 49080220, 1016148176, 18604443, 21940000, 24777000, 22752880, 58992436, 258028373, 258386550, 18087123, 197007553, 358127700, 66870634, 104316683, 195595693, 21635686, 464721999, 23686000, 115756111, 102828604, 37268162, 215617501, 43113473, 27428941, 72681681, 51736254, 176677024, 585784500, 31474526, 25302234, 19391778, 24438446, 342035860, 33560974, 33303902, 29371716, 100220000, 53156203, 105593242, 174106490, 21054000, 67794880, 50358593, 954852600, 15682840, 19223728, 34034178, 17591733, 43863749, 35329571, 17300000, 23201603, 50520999, 17711043, 55970713, 203452417, 534644785, 31500000, 84082104, 64526891, 35502582, 22026230, 15460966, 278877123, 37253210, 28860107, 41599959, 165566495, 193271437, 21867709, 106820000, 27225637, 68331773, 17978516, 63299925, 120500000, 51105911, 24358926, 22000000, 15678811, 60936530, 350040219, 98632194, 43838249, 30421037, 85824156, 16777175, 58573744, 22833319, 61524736, 34416887, 18310000, 81131909, 175246855, 28993930, 1547511439, 31052190, 22121569, 83215997, 20730086, 20623099, 22510000, 16547563, 80721594, 116191184, 196853975, 25512343, 27106434, 19865690, 143795090, 135455000, 187853701, 22475333, 38412374, 66817959, 62070621, 62328052, 100250602, 19268169, 284863762, 746310844, 16809408, 37600000, 896315287, 112417440, 112981121, 17695194, 33600000, 22404267, 51670191, 96220673, 22055657, 27807304, 91408506, 40743724, 16286033, 353629176, 131288062, 93613295, 268266203, 38100000, 21136135, 36057947, 49681435, 25590000, 237660077, 214610632, 15714320, 18600000, 18800000, 97090675, 40729055, 35352263, 208178829, 21781741, 18642484, 137800000, 48525290, 15291251, 177035582, 68693655, 22561506, 1014467354, 21678798, 41083126, 130481204, 46737153, 56846658, 152281255, 680973688, 337580746, 90723181, 40746162, 47897494, 91302133, 129414369, 101327317, 21839605, 30223375, 49047253, 67370030, 24507384, 42453369, 17876777, 284863762, 65935070, 29580175, 19100000, 28952800, 68668270, 217944697, 46218245, 28820830, 35212523, 21932742, 715792024, 21341268, 17814757, 324874000, 461954372, 205473477, 593275186, 16566856, 82106333, 17588570, 18611248, 47008615, 80459602, 16204374, 76363728, 16820672, 16778090, 21846800, 23345328, 103062594, 100605212, 51954358, 18844623, 68489543, 170909000, 49898166, 19405127, 174081116, 113658582, 31967000, 25848939, 62371547, 65575554, 50294342, 17695194, 1350000000, 16220826, 54080733, 52183748, 30542133, 363510252, 32734079, 19290928, 91182000, 46149049, 28531015, 41924988, 15537415, 32243604, 172296311, 113844867, 15602872, 49936840, 21813972, 96675048, 41016655, 23800806, 112089220, 512332955, 209577562, 160030959, 34949036, 40097329, 65847040]\n"
     ]
    }
   ],
   "source": [
    "outlier = []\n",
    "for x in data['LIABILITIES']:\n",
    "    if((x>Up_lim) or (x<low_lim)):\n",
    "        outlier.append(x)\n",
    "print(outlier)"
   ]
  },
  {
   "cell_type": "code",
   "execution_count": 22,
   "id": "082be1ed",
   "metadata": {},
   "outputs": [],
   "source": [
    "# find index of these outliers\n",
    "# locate those in index columns"
   ]
  },
  {
   "cell_type": "code",
   "execution_count": 23,
   "id": "078a6b98",
   "metadata": {},
   "outputs": [
    {
     "data": {
      "text/plain": [
       "Int64Index([   2,    5,    8,   13,   17,   32,   59,   65,   67,   74,\n",
       "            ...\n",
       "            2174, 2175, 2176, 2184, 2208, 2209, 2226, 2229, 2250, 2255],\n",
       "           dtype='int64', length=311)"
      ]
     },
     "execution_count": 23,
     "metadata": {},
     "output_type": "execute_result"
    }
   ],
   "source": [
    "ind1 = data['LIABILITIES']>Up_lim\n",
    "data.loc[ind1].index"
   ]
  },
  {
   "cell_type": "code",
   "execution_count": 24,
   "id": "99319b38",
   "metadata": {},
   "outputs": [
    {
     "data": {
      "text/plain": [
       "Int64Index([], dtype='int64')"
      ]
     },
     "execution_count": 24,
     "metadata": {},
     "output_type": "execute_result"
    }
   ],
   "source": [
    "ind2 = data['LIABILITIES']<low_lim\n",
    "data.loc[ind2].index"
   ]
  },
  {
   "cell_type": "code",
   "execution_count": 25,
   "id": "6e88c351",
   "metadata": {},
   "outputs": [],
   "source": [
    "# drop it\n",
    "data.drop(data.loc[ind1].index, inplace=True)"
   ]
  },
  {
   "cell_type": "code",
   "execution_count": 26,
   "id": "15317c9f",
   "metadata": {},
   "outputs": [
    {
     "data": {
      "image/png": "[encoded data removed]",
      "text/plain": [
       "<Figure size 432x288 with 1 Axes>"
      ]
     },
     "metadata": {
      "needs_background": "light"
     },
     "output_type": "display_data"
    }
   ],
   "source": [
    "plt.boxplot(data['LIABILITIES'])\n",
    "plt.title('Boxplot for LIABILITIES')\n",
    "plt.show()"
   ]
  },
  {
   "cell_type": "markdown",
   "id": "f1b72dad",
   "metadata": {},
   "source": [
    "Reduced the outliers"
   ]
  },
  {
   "cell_type": "code",
   "execution_count": 27,
   "id": "aaeee8eb",
   "metadata": {},
   "outputs": [
    {
     "data": {
      "text/plain": [
       "(1707, 10)"
      ]
     },
     "execution_count": 27,
     "metadata": {},
     "output_type": "execute_result"
    }
   ],
   "source": [
    "data.shape"
   ]
  },
  {
   "cell_type": "code",
   "execution_count": 28,
   "id": "1d0d9115",
   "metadata": {},
   "outputs": [
    {
     "data": {
      "text/plain": [
       "Index(['WINNER', 'PARTY', 'GENDER', 'CRIMINAL_CASES', 'AGE', 'CATEGORY',\n",
       "       'EDUCATION', 'ASSETS', 'LIABILITIES', 'TOTAL_ELECTORS'],\n",
       "      dtype='object')"
      ]
     },
     "execution_count": 28,
     "metadata": {},
     "output_type": "execute_result"
    }
   ],
   "source": [
    "data.columns"
   ]
  },
  {
   "cell_type": "markdown",
   "id": "72c005fe",
   "metadata": {},
   "source": [
    "#### Managing Catagorical Values"
   ]
  },
  {
   "cell_type": "code",
   "execution_count": 29,
   "id": "20789e4a",
   "metadata": {},
   "outputs": [
    {
     "data": {
      "text/html": [
       "<div>\n",
       "<style scoped>\n",
       "    .dataframe tbody tr th:only-of-type {\n",
       "        vertical-align: middle;\n",
       "    }\n",
       "\n",
       "    .dataframe tbody tr th {\n",
       "        vertical-align: top;\n",
       "    }\n",
       "\n",
       "    .dataframe thead th {\n",
       "        text-align: right;\n",
       "    }\n",
       "</style>\n",
       "<table border=\"1\" class=\"dataframe\">\n",
       "  <thead>\n",
       "    <tr style=\"text-align: right;\">\n",
       "      <th></th>\n",
       "      <th>PARTY</th>\n",
       "      <th>GENDER</th>\n",
       "      <th>CATEGORY</th>\n",
       "      <th>EDUCATION</th>\n",
       "    </tr>\n",
       "  </thead>\n",
       "  <tbody>\n",
       "    <tr>\n",
       "      <th>0</th>\n",
       "      <td>BJP</td>\n",
       "      <td>MALE</td>\n",
       "      <td>ST</td>\n",
       "      <td>12th Pass</td>\n",
       "    </tr>\n",
       "    <tr>\n",
       "      <th>1</th>\n",
       "      <td>TRS</td>\n",
       "      <td>MALE</td>\n",
       "      <td>ST</td>\n",
       "      <td>Post Graduate</td>\n",
       "    </tr>\n",
       "    <tr>\n",
       "      <th>4</th>\n",
       "      <td>BJP</td>\n",
       "      <td>MALE</td>\n",
       "      <td>SC</td>\n",
       "      <td>Doctorate</td>\n",
       "    </tr>\n",
       "    <tr>\n",
       "      <th>6</th>\n",
       "      <td>INC</td>\n",
       "      <td>FEMALE</td>\n",
       "      <td>SC</td>\n",
       "      <td>Post Graduate</td>\n",
       "    </tr>\n",
       "    <tr>\n",
       "      <th>7</th>\n",
       "      <td>BJP</td>\n",
       "      <td>MALE</td>\n",
       "      <td>GENERAL</td>\n",
       "      <td>Doctorate</td>\n",
       "    </tr>\n",
       "  </tbody>\n",
       "</table>\n",
       "</div>"
      ],
      "text/plain": [
       "  PARTY  GENDER CATEGORY      EDUCATION\n",
       "0   BJP    MALE       ST      12th Pass\n",
       "1   TRS    MALE       ST  Post Graduate\n",
       "4   BJP    MALE       SC      Doctorate\n",
       "6   INC  FEMALE       SC  Post Graduate\n",
       "7   BJP    MALE  GENERAL      Doctorate"
      ]
     },
     "execution_count": 29,
     "metadata": {},
     "output_type": "execute_result"
    }
   ],
   "source": [
    "data[['PARTY','GENDER','CATEGORY','EDUCATION']].head()"
   ]
  },
  {
   "cell_type": "markdown",
   "id": "a53da3f1",
   "metadata": {},
   "source": [
    "### 2.6 Feature Engineering"
   ]
  },
  {
   "cell_type": "markdown",
   "id": "21b50908",
   "metadata": {},
   "source": [
    "Checking feature 'PARTY'"
   ]
  },
  {
   "cell_type": "code",
   "execution_count": 30,
   "id": "e2f45dac",
   "metadata": {},
   "outputs": [
    {
     "data": {
      "text/plain": [
       "BJP       345\n",
       "INC       332\n",
       "IND       188\n",
       "BSP       147\n",
       "CPI(M)     99\n",
       "         ... \n",
       "MADP        1\n",
       "NPF         1\n",
       "MNF         1\n",
       "ABSKP       1\n",
       "BVA         1\n",
       "Name: PARTY, Length: 127, dtype: int64"
      ]
     },
     "execution_count": 30,
     "metadata": {},
     "output_type": "execute_result"
    }
   ],
   "source": [
    "data['PARTY'].value_counts()"
   ]
  },
  {
   "cell_type": "markdown",
   "id": "e2f5a8e8",
   "metadata": {},
   "source": [
    "132 parties, lets reduce this number."
   ]
  },
  {
   "cell_type": "code",
   "execution_count": 31,
   "id": "f0dc5cee",
   "metadata": {},
   "outputs": [
    {
     "data": {
      "text/plain": [
       "BJP       345\n",
       "INC       332\n",
       "Others    231\n",
       "IND       188\n",
       "BSP       147\n",
       "CPI(M)     99\n",
       "VBA        44\n",
       "AITC       44\n",
       "NTK        37\n",
       "SP         32\n",
       "MNM        31\n",
       "AAP        23\n",
       "RJD        20\n",
       "BJD        19\n",
       "JD(U)      18\n",
       "SHS        18\n",
       "JnP        15\n",
       "AIADMK     14\n",
       "NCP        13\n",
       "TDP        13\n",
       "DMK        13\n",
       "YSRCP      11\n",
       "Name: PARTY, dtype: int64"
      ]
     },
     "execution_count": 31,
     "metadata": {},
     "output_type": "execute_result"
    }
   ],
   "source": [
    "data['PARTY']=data['PARTY'].apply(lambda x:x if data['PARTY'].value_counts().loc[x]>10 else 'Others')\n",
    "data['PARTY'].value_counts()"
   ]
  },
  {
   "cell_type": "markdown",
   "id": "10beb142",
   "metadata": {},
   "source": [
    "Now 'Education' Feature\n"
   ]
  },
  {
   "cell_type": "code",
   "execution_count": 32,
   "id": "dec598b7",
   "metadata": {},
   "outputs": [
    {
     "data": {
      "text/plain": [
       "Post Graduate            421\n",
       "Graduate                 369\n",
       "Graduate Professional    285\n",
       "12th Pass                212\n",
       "10th Pass                163\n",
       "8th Pass                  73\n",
       "Doctorate                 66\n",
       "Others                    40\n",
       "Literate                  26\n",
       "5th Pass                  25\n",
       "Not Available             22\n",
       "Illiterate                 4\n",
       "Post Graduate\\n            1\n",
       "Name: EDUCATION, dtype: int64"
      ]
     },
     "execution_count": 32,
     "metadata": {},
     "output_type": "execute_result"
    }
   ],
   "source": [
    "data['EDUCATION'].value_counts()"
   ]
  },
  {
   "cell_type": "markdown",
   "id": "e6282f48",
   "metadata": {},
   "source": [
    "lets reduce its numbers"
   ]
  },
  {
   "cell_type": "code",
   "execution_count": 33,
   "id": "1603af3f",
   "metadata": {},
   "outputs": [
    {
     "data": {
      "text/plain": [
       "Post Graduate            421\n",
       "Graduate                 369\n",
       "Graduate Professional    285\n",
       "12th Pass                212\n",
       "10th Pass                163\n",
       "8th Pass                  73\n",
       "Illiterate                67\n",
       "Doctorate                 66\n",
       "Literate                  26\n",
       "5th Pass                  25\n",
       "Name: EDUCATION, dtype: int64"
      ]
     },
     "execution_count": 33,
     "metadata": {},
     "output_type": "execute_result"
    }
   ],
   "source": [
    "ill = ['Others','Not Available','Illiterate','Post Graduate\\n']\n",
    "data['EDUCATION']=data['EDUCATION'].apply(lambda x:'Illiterate' if x in ill else x)\n",
    "data['EDUCATION'].value_counts()"
   ]
  },
  {
   "cell_type": "code",
   "execution_count": 34,
   "id": "1073d04a",
   "metadata": {},
   "outputs": [
    {
     "data": {
      "text/html": [
       "<div>\n",
       "<style scoped>\n",
       "    .dataframe tbody tr th:only-of-type {\n",
       "        vertical-align: middle;\n",
       "    }\n",
       "\n",
       "    .dataframe tbody tr th {\n",
       "        vertical-align: top;\n",
       "    }\n",
       "\n",
       "    .dataframe thead th {\n",
       "        text-align: right;\n",
       "    }\n",
       "</style>\n",
       "<table border=\"1\" class=\"dataframe\">\n",
       "  <thead>\n",
       "    <tr style=\"text-align: right;\">\n",
       "      <th></th>\n",
       "      <th>WINNER</th>\n",
       "      <th>PARTY</th>\n",
       "      <th>GENDER</th>\n",
       "      <th>CRIMINAL_CASES</th>\n",
       "      <th>AGE</th>\n",
       "      <th>CATEGORY</th>\n",
       "      <th>EDUCATION</th>\n",
       "      <th>ASSETS</th>\n",
       "      <th>LIABILITIES</th>\n",
       "      <th>TOTAL_ELECTORS</th>\n",
       "    </tr>\n",
       "  </thead>\n",
       "  <tbody>\n",
       "    <tr>\n",
       "      <th>0</th>\n",
       "      <td>1</td>\n",
       "      <td>BJP</td>\n",
       "      <td>MALE</td>\n",
       "      <td>52</td>\n",
       "      <td>52.0</td>\n",
       "      <td>ST</td>\n",
       "      <td>12th Pass</td>\n",
       "      <td>Rs 30,99,414\\n ~ 30 Lacs+</td>\n",
       "      <td>231450</td>\n",
       "      <td>1489790</td>\n",
       "    </tr>\n",
       "    <tr>\n",
       "      <th>1</th>\n",
       "      <td>0</td>\n",
       "      <td>Others</td>\n",
       "      <td>MALE</td>\n",
       "      <td>0</td>\n",
       "      <td>54.0</td>\n",
       "      <td>ST</td>\n",
       "      <td>Post Graduate</td>\n",
       "      <td>Rs 1,84,77,888\\n ~ 1 Crore+</td>\n",
       "      <td>847000</td>\n",
       "      <td>1489790</td>\n",
       "    </tr>\n",
       "    <tr>\n",
       "      <th>4</th>\n",
       "      <td>1</td>\n",
       "      <td>BJP</td>\n",
       "      <td>MALE</td>\n",
       "      <td>5</td>\n",
       "      <td>58.0</td>\n",
       "      <td>SC</td>\n",
       "      <td>Doctorate</td>\n",
       "      <td>Rs 7,42,74,036\\n ~ 7 Crore+</td>\n",
       "      <td>8606522</td>\n",
       "      <td>1937690</td>\n",
       "    </tr>\n",
       "    <tr>\n",
       "      <th>6</th>\n",
       "      <td>0</td>\n",
       "      <td>INC</td>\n",
       "      <td>FEMALE</td>\n",
       "      <td>0</td>\n",
       "      <td>54.0</td>\n",
       "      <td>SC</td>\n",
       "      <td>Post Graduate</td>\n",
       "      <td>Rs 5,50,75,753\\n ~ 5 Crore+</td>\n",
       "      <td>0</td>\n",
       "      <td>1937690</td>\n",
       "    </tr>\n",
       "    <tr>\n",
       "      <th>7</th>\n",
       "      <td>1</td>\n",
       "      <td>BJP</td>\n",
       "      <td>MALE</td>\n",
       "      <td>0</td>\n",
       "      <td>37.0</td>\n",
       "      <td>GENERAL</td>\n",
       "      <td>Doctorate</td>\n",
       "      <td>Rs 16,86,64,576\\n ~ 16 Crore+</td>\n",
       "      <td>2623964</td>\n",
       "      <td>1861396</td>\n",
       "    </tr>\n",
       "  </tbody>\n",
       "</table>\n",
       "</div>"
      ],
      "text/plain": [
       "   WINNER   PARTY  GENDER CRIMINAL_CASES   AGE CATEGORY      EDUCATION  \\\n",
       "0       1     BJP    MALE             52  52.0       ST      12th Pass   \n",
       "1       0  Others    MALE              0  54.0       ST  Post Graduate   \n",
       "4       1     BJP    MALE              5  58.0       SC      Doctorate   \n",
       "6       0     INC  FEMALE              0  54.0       SC  Post Graduate   \n",
       "7       1     BJP    MALE              0  37.0  GENERAL      Doctorate   \n",
       "\n",
       "                          ASSETS  LIABILITIES  TOTAL_ELECTORS  \n",
       "0      Rs 30,99,414\\n ~ 30 Lacs+       231450         1489790  \n",
       "1    Rs 1,84,77,888\\n ~ 1 Crore+       847000         1489790  \n",
       "4    Rs 7,42,74,036\\n ~ 7 Crore+      8606522         1937690  \n",
       "6    Rs 5,50,75,753\\n ~ 5 Crore+            0         1937690  \n",
       "7  Rs 16,86,64,576\\n ~ 16 Crore+      2623964         1861396  "
      ]
     },
     "execution_count": 34,
     "metadata": {},
     "output_type": "execute_result"
    }
   ],
   "source": [
    "data.head()"
   ]
  },
  {
   "cell_type": "markdown",
   "id": "433d4b47",
   "metadata": {},
   "source": [
    "### 2.3 Encoding"
   ]
  },
  {
   "cell_type": "code",
   "execution_count": 35,
   "id": "00a26a96",
   "metadata": {},
   "outputs": [
    {
     "data": {
      "text/html": [
       "<div>\n",
       "<style scoped>\n",
       "    .dataframe tbody tr th:only-of-type {\n",
       "        vertical-align: middle;\n",
       "    }\n",
       "\n",
       "    .dataframe tbody tr th {\n",
       "        vertical-align: top;\n",
       "    }\n",
       "\n",
       "    .dataframe thead th {\n",
       "        text-align: right;\n",
       "    }\n",
       "</style>\n",
       "<table border=\"1\" class=\"dataframe\">\n",
       "  <thead>\n",
       "    <tr style=\"text-align: right;\">\n",
       "      <th></th>\n",
       "      <th>WINNER</th>\n",
       "      <th>PARTY</th>\n",
       "      <th>GENDER</th>\n",
       "      <th>CRIMINAL_CASES</th>\n",
       "      <th>AGE</th>\n",
       "      <th>CATEGORY</th>\n",
       "      <th>EDUCATION</th>\n",
       "      <th>ASSETS</th>\n",
       "      <th>LIABILITIES</th>\n",
       "      <th>TOTAL_ELECTORS</th>\n",
       "      <th>...</th>\n",
       "      <th>PARTY_YSRCP</th>\n",
       "      <th>EDUCATION_12th Pass</th>\n",
       "      <th>EDUCATION_5th Pass</th>\n",
       "      <th>EDUCATION_8th Pass</th>\n",
       "      <th>EDUCATION_Doctorate</th>\n",
       "      <th>EDUCATION_Graduate</th>\n",
       "      <th>EDUCATION_Graduate Professional</th>\n",
       "      <th>EDUCATION_Illiterate</th>\n",
       "      <th>EDUCATION_Literate</th>\n",
       "      <th>EDUCATION_Post Graduate</th>\n",
       "    </tr>\n",
       "  </thead>\n",
       "  <tbody>\n",
       "    <tr>\n",
       "      <th>0</th>\n",
       "      <td>1</td>\n",
       "      <td>BJP</td>\n",
       "      <td>MALE</td>\n",
       "      <td>52</td>\n",
       "      <td>52.0</td>\n",
       "      <td>ST</td>\n",
       "      <td>12th Pass</td>\n",
       "      <td>Rs 30,99,414\\n ~ 30 Lacs+</td>\n",
       "      <td>231450</td>\n",
       "      <td>1489790</td>\n",
       "      <td>...</td>\n",
       "      <td>0</td>\n",
       "      <td>1</td>\n",
       "      <td>0</td>\n",
       "      <td>0</td>\n",
       "      <td>0</td>\n",
       "      <td>0</td>\n",
       "      <td>0</td>\n",
       "      <td>0</td>\n",
       "      <td>0</td>\n",
       "      <td>0</td>\n",
       "    </tr>\n",
       "    <tr>\n",
       "      <th>1</th>\n",
       "      <td>0</td>\n",
       "      <td>Others</td>\n",
       "      <td>MALE</td>\n",
       "      <td>0</td>\n",
       "      <td>54.0</td>\n",
       "      <td>ST</td>\n",
       "      <td>Post Graduate</td>\n",
       "      <td>Rs 1,84,77,888\\n ~ 1 Crore+</td>\n",
       "      <td>847000</td>\n",
       "      <td>1489790</td>\n",
       "      <td>...</td>\n",
       "      <td>0</td>\n",
       "      <td>0</td>\n",
       "      <td>0</td>\n",
       "      <td>0</td>\n",
       "      <td>0</td>\n",
       "      <td>0</td>\n",
       "      <td>0</td>\n",
       "      <td>0</td>\n",
       "      <td>0</td>\n",
       "      <td>1</td>\n",
       "    </tr>\n",
       "    <tr>\n",
       "      <th>4</th>\n",
       "      <td>1</td>\n",
       "      <td>BJP</td>\n",
       "      <td>MALE</td>\n",
       "      <td>5</td>\n",
       "      <td>58.0</td>\n",
       "      <td>SC</td>\n",
       "      <td>Doctorate</td>\n",
       "      <td>Rs 7,42,74,036\\n ~ 7 Crore+</td>\n",
       "      <td>8606522</td>\n",
       "      <td>1937690</td>\n",
       "      <td>...</td>\n",
       "      <td>0</td>\n",
       "      <td>0</td>\n",
       "      <td>0</td>\n",
       "      <td>0</td>\n",
       "      <td>1</td>\n",
       "      <td>0</td>\n",
       "      <td>0</td>\n",
       "      <td>0</td>\n",
       "      <td>0</td>\n",
       "      <td>0</td>\n",
       "    </tr>\n",
       "    <tr>\n",
       "      <th>6</th>\n",
       "      <td>0</td>\n",
       "      <td>INC</td>\n",
       "      <td>FEMALE</td>\n",
       "      <td>0</td>\n",
       "      <td>54.0</td>\n",
       "      <td>SC</td>\n",
       "      <td>Post Graduate</td>\n",
       "      <td>Rs 5,50,75,753\\n ~ 5 Crore+</td>\n",
       "      <td>0</td>\n",
       "      <td>1937690</td>\n",
       "      <td>...</td>\n",
       "      <td>0</td>\n",
       "      <td>0</td>\n",
       "      <td>0</td>\n",
       "      <td>0</td>\n",
       "      <td>0</td>\n",
       "      <td>0</td>\n",
       "      <td>0</td>\n",
       "      <td>0</td>\n",
       "      <td>0</td>\n",
       "      <td>1</td>\n",
       "    </tr>\n",
       "    <tr>\n",
       "      <th>7</th>\n",
       "      <td>1</td>\n",
       "      <td>BJP</td>\n",
       "      <td>MALE</td>\n",
       "      <td>0</td>\n",
       "      <td>37.0</td>\n",
       "      <td>GENERAL</td>\n",
       "      <td>Doctorate</td>\n",
       "      <td>Rs 16,86,64,576\\n ~ 16 Crore+</td>\n",
       "      <td>2623964</td>\n",
       "      <td>1861396</td>\n",
       "      <td>...</td>\n",
       "      <td>0</td>\n",
       "      <td>0</td>\n",
       "      <td>0</td>\n",
       "      <td>0</td>\n",
       "      <td>1</td>\n",
       "      <td>0</td>\n",
       "      <td>0</td>\n",
       "      <td>0</td>\n",
       "      <td>0</td>\n",
       "      <td>0</td>\n",
       "    </tr>\n",
       "  </tbody>\n",
       "</table>\n",
       "<p>5 rows × 43 columns</p>\n",
       "</div>"
      ],
      "text/plain": [
       "   WINNER   PARTY  GENDER CRIMINAL_CASES   AGE CATEGORY      EDUCATION  \\\n",
       "0       1     BJP    MALE             52  52.0       ST      12th Pass   \n",
       "1       0  Others    MALE              0  54.0       ST  Post Graduate   \n",
       "4       1     BJP    MALE              5  58.0       SC      Doctorate   \n",
       "6       0     INC  FEMALE              0  54.0       SC  Post Graduate   \n",
       "7       1     BJP    MALE              0  37.0  GENERAL      Doctorate   \n",
       "\n",
       "                          ASSETS  LIABILITIES  TOTAL_ELECTORS  ...  \\\n",
       "0      Rs 30,99,414\\n ~ 30 Lacs+       231450         1489790  ...   \n",
       "1    Rs 1,84,77,888\\n ~ 1 Crore+       847000         1489790  ...   \n",
       "4    Rs 7,42,74,036\\n ~ 7 Crore+      8606522         1937690  ...   \n",
       "6    Rs 5,50,75,753\\n ~ 5 Crore+            0         1937690  ...   \n",
       "7  Rs 16,86,64,576\\n ~ 16 Crore+      2623964         1861396  ...   \n",
       "\n",
       "   PARTY_YSRCP  EDUCATION_12th Pass  EDUCATION_5th Pass  EDUCATION_8th Pass  \\\n",
       "0            0                    1                   0                   0   \n",
       "1            0                    0                   0                   0   \n",
       "4            0                    0                   0                   0   \n",
       "6            0                    0                   0                   0   \n",
       "7            0                    0                   0                   0   \n",
       "\n",
       "   EDUCATION_Doctorate  EDUCATION_Graduate  EDUCATION_Graduate Professional  \\\n",
       "0                    0                   0                                0   \n",
       "1                    0                   0                                0   \n",
       "4                    1                   0                                0   \n",
       "6                    0                   0                                0   \n",
       "7                    1                   0                                0   \n",
       "\n",
       "   EDUCATION_Illiterate  EDUCATION_Literate  EDUCATION_Post Graduate  \n",
       "0                     0                   0                        0  \n",
       "1                     0                   0                        1  \n",
       "4                     0                   0                        0  \n",
       "6                     0                   0                        1  \n",
       "7                     0                   0                        0  \n",
       "\n",
       "[5 rows x 43 columns]"
      ]
     },
     "execution_count": 35,
     "metadata": {},
     "output_type": "execute_result"
    }
   ],
   "source": [
    "dummy = pd.get_dummies(data[['GENDER','CATEGORY','PARTY','EDUCATION']],drop_first =True)\n",
    "feature_data = pd.concat([data,dummy],axis=1)\n",
    "feature_data.head()"
   ]
  },
  {
   "cell_type": "markdown",
   "id": "7fa89215",
   "metadata": {},
   "source": [
    "drops previous catagorical columns"
   ]
  },
  {
   "cell_type": "code",
   "execution_count": 36,
   "id": "a592c6e7",
   "metadata": {},
   "outputs": [
    {
     "data": {
      "text/html": [
       "<div>\n",
       "<style scoped>\n",
       "    .dataframe tbody tr th:only-of-type {\n",
       "        vertical-align: middle;\n",
       "    }\n",
       "\n",
       "    .dataframe tbody tr th {\n",
       "        vertical-align: top;\n",
       "    }\n",
       "\n",
       "    .dataframe thead th {\n",
       "        text-align: right;\n",
       "    }\n",
       "</style>\n",
       "<table border=\"1\" class=\"dataframe\">\n",
       "  <thead>\n",
       "    <tr style=\"text-align: right;\">\n",
       "      <th></th>\n",
       "      <th>WINNER</th>\n",
       "      <th>CRIMINAL_CASES</th>\n",
       "      <th>AGE</th>\n",
       "      <th>ASSETS</th>\n",
       "      <th>LIABILITIES</th>\n",
       "      <th>TOTAL_ELECTORS</th>\n",
       "      <th>GENDER_MALE</th>\n",
       "      <th>CATEGORY_SC</th>\n",
       "      <th>CATEGORY_ST</th>\n",
       "      <th>PARTY_AIADMK</th>\n",
       "      <th>...</th>\n",
       "      <th>PARTY_YSRCP</th>\n",
       "      <th>EDUCATION_12th Pass</th>\n",
       "      <th>EDUCATION_5th Pass</th>\n",
       "      <th>EDUCATION_8th Pass</th>\n",
       "      <th>EDUCATION_Doctorate</th>\n",
       "      <th>EDUCATION_Graduate</th>\n",
       "      <th>EDUCATION_Graduate Professional</th>\n",
       "      <th>EDUCATION_Illiterate</th>\n",
       "      <th>EDUCATION_Literate</th>\n",
       "      <th>EDUCATION_Post Graduate</th>\n",
       "    </tr>\n",
       "  </thead>\n",
       "  <tbody>\n",
       "    <tr>\n",
       "      <th>0</th>\n",
       "      <td>1</td>\n",
       "      <td>52</td>\n",
       "      <td>52.0</td>\n",
       "      <td>Rs 30,99,414\\n ~ 30 Lacs+</td>\n",
       "      <td>231450</td>\n",
       "      <td>1489790</td>\n",
       "      <td>1</td>\n",
       "      <td>0</td>\n",
       "      <td>1</td>\n",
       "      <td>0</td>\n",
       "      <td>...</td>\n",
       "      <td>0</td>\n",
       "      <td>1</td>\n",
       "      <td>0</td>\n",
       "      <td>0</td>\n",
       "      <td>0</td>\n",
       "      <td>0</td>\n",
       "      <td>0</td>\n",
       "      <td>0</td>\n",
       "      <td>0</td>\n",
       "      <td>0</td>\n",
       "    </tr>\n",
       "    <tr>\n",
       "      <th>1</th>\n",
       "      <td>0</td>\n",
       "      <td>0</td>\n",
       "      <td>54.0</td>\n",
       "      <td>Rs 1,84,77,888\\n ~ 1 Crore+</td>\n",
       "      <td>847000</td>\n",
       "      <td>1489790</td>\n",
       "      <td>1</td>\n",
       "      <td>0</td>\n",
       "      <td>1</td>\n",
       "      <td>0</td>\n",
       "      <td>...</td>\n",
       "      <td>0</td>\n",
       "      <td>0</td>\n",
       "      <td>0</td>\n",
       "      <td>0</td>\n",
       "      <td>0</td>\n",
       "      <td>0</td>\n",
       "      <td>0</td>\n",
       "      <td>0</td>\n",
       "      <td>0</td>\n",
       "      <td>1</td>\n",
       "    </tr>\n",
       "    <tr>\n",
       "      <th>4</th>\n",
       "      <td>1</td>\n",
       "      <td>5</td>\n",
       "      <td>58.0</td>\n",
       "      <td>Rs 7,42,74,036\\n ~ 7 Crore+</td>\n",
       "      <td>8606522</td>\n",
       "      <td>1937690</td>\n",
       "      <td>1</td>\n",
       "      <td>1</td>\n",
       "      <td>0</td>\n",
       "      <td>0</td>\n",
       "      <td>...</td>\n",
       "      <td>0</td>\n",
       "      <td>0</td>\n",
       "      <td>0</td>\n",
       "      <td>0</td>\n",
       "      <td>1</td>\n",
       "      <td>0</td>\n",
       "      <td>0</td>\n",
       "      <td>0</td>\n",
       "      <td>0</td>\n",
       "      <td>0</td>\n",
       "    </tr>\n",
       "    <tr>\n",
       "      <th>6</th>\n",
       "      <td>0</td>\n",
       "      <td>0</td>\n",
       "      <td>54.0</td>\n",
       "      <td>Rs 5,50,75,753\\n ~ 5 Crore+</td>\n",
       "      <td>0</td>\n",
       "      <td>1937690</td>\n",
       "      <td>0</td>\n",
       "      <td>1</td>\n",
       "      <td>0</td>\n",
       "      <td>0</td>\n",
       "      <td>...</td>\n",
       "      <td>0</td>\n",
       "      <td>0</td>\n",
       "      <td>0</td>\n",
       "      <td>0</td>\n",
       "      <td>0</td>\n",
       "      <td>0</td>\n",
       "      <td>0</td>\n",
       "      <td>0</td>\n",
       "      <td>0</td>\n",
       "      <td>1</td>\n",
       "    </tr>\n",
       "    <tr>\n",
       "      <th>7</th>\n",
       "      <td>1</td>\n",
       "      <td>0</td>\n",
       "      <td>37.0</td>\n",
       "      <td>Rs 16,86,64,576\\n ~ 16 Crore+</td>\n",
       "      <td>2623964</td>\n",
       "      <td>1861396</td>\n",
       "      <td>1</td>\n",
       "      <td>0</td>\n",
       "      <td>0</td>\n",
       "      <td>0</td>\n",
       "      <td>...</td>\n",
       "      <td>0</td>\n",
       "      <td>0</td>\n",
       "      <td>0</td>\n",
       "      <td>0</td>\n",
       "      <td>1</td>\n",
       "      <td>0</td>\n",
       "      <td>0</td>\n",
       "      <td>0</td>\n",
       "      <td>0</td>\n",
       "      <td>0</td>\n",
       "    </tr>\n",
       "  </tbody>\n",
       "</table>\n",
       "<p>5 rows × 39 columns</p>\n",
       "</div>"
      ],
      "text/plain": [
       "   WINNER CRIMINAL_CASES   AGE                         ASSETS  LIABILITIES  \\\n",
       "0       1             52  52.0      Rs 30,99,414\\n ~ 30 Lacs+       231450   \n",
       "1       0              0  54.0    Rs 1,84,77,888\\n ~ 1 Crore+       847000   \n",
       "4       1              5  58.0    Rs 7,42,74,036\\n ~ 7 Crore+      8606522   \n",
       "6       0              0  54.0    Rs 5,50,75,753\\n ~ 5 Crore+            0   \n",
       "7       1              0  37.0  Rs 16,86,64,576\\n ~ 16 Crore+      2623964   \n",
       "\n",
       "   TOTAL_ELECTORS  GENDER_MALE  CATEGORY_SC  CATEGORY_ST  PARTY_AIADMK  ...  \\\n",
       "0         1489790            1            0            1             0  ...   \n",
       "1         1489790            1            0            1             0  ...   \n",
       "4         1937690            1            1            0             0  ...   \n",
       "6         1937690            0            1            0             0  ...   \n",
       "7         1861396            1            0            0             0  ...   \n",
       "\n",
       "   PARTY_YSRCP  EDUCATION_12th Pass  EDUCATION_5th Pass  EDUCATION_8th Pass  \\\n",
       "0            0                    1                   0                   0   \n",
       "1            0                    0                   0                   0   \n",
       "4            0                    0                   0                   0   \n",
       "6            0                    0                   0                   0   \n",
       "7            0                    0                   0                   0   \n",
       "\n",
       "   EDUCATION_Doctorate  EDUCATION_Graduate  EDUCATION_Graduate Professional  \\\n",
       "0                    0                   0                                0   \n",
       "1                    0                   0                                0   \n",
       "4                    1                   0                                0   \n",
       "6                    0                   0                                0   \n",
       "7                    1                   0                                0   \n",
       "\n",
       "   EDUCATION_Illiterate  EDUCATION_Literate  EDUCATION_Post Graduate  \n",
       "0                     0                   0                        0  \n",
       "1                     0                   0                        1  \n",
       "4                     0                   0                        0  \n",
       "6                     0                   0                        1  \n",
       "7                     0                   0                        0  \n",
       "\n",
       "[5 rows x 39 columns]"
      ]
     },
     "execution_count": 36,
     "metadata": {},
     "output_type": "execute_result"
    }
   ],
   "source": [
    "feature_data.drop(['PARTY','GENDER','CATEGORY','EDUCATION'],axis=1, inplace =True)\n",
    "# final data\n",
    "feature_data.head()"
   ]
  },
  {
   "cell_type": "code",
   "execution_count": 37,
   "id": "925d3a24",
   "metadata": {},
   "outputs": [],
   "source": [
    "df = feature_data.copy()"
   ]
  },
  {
   "cell_type": "markdown",
   "id": "3c795e2a",
   "metadata": {},
   "source": [
    "Training and Test Data Spliting"
   ]
  },
  {
   "cell_type": "code",
   "execution_count": 38,
   "id": "50bf5e97",
   "metadata": {},
   "outputs": [],
   "source": [
    "# split the dataset\n",
    "X = df.drop(['WINNER','ASSETS'],axis=1)\n",
    "y = df['WINNER']"
   ]
  },
  {
   "cell_type": "code",
   "execution_count": 39,
   "id": "12ba9e82",
   "metadata": {},
   "outputs": [
    {
     "data": {
      "text/html": [
       "<div>\n",
       "<style scoped>\n",
       "    .dataframe tbody tr th:only-of-type {\n",
       "        vertical-align: middle;\n",
       "    }\n",
       "\n",
       "    .dataframe tbody tr th {\n",
       "        vertical-align: top;\n",
       "    }\n",
       "\n",
       "    .dataframe thead th {\n",
       "        text-align: right;\n",
       "    }\n",
       "</style>\n",
       "<table border=\"1\" class=\"dataframe\">\n",
       "  <thead>\n",
       "    <tr style=\"text-align: right;\">\n",
       "      <th></th>\n",
       "      <th>CRIMINAL_CASES</th>\n",
       "      <th>AGE</th>\n",
       "      <th>LIABILITIES</th>\n",
       "      <th>TOTAL_ELECTORS</th>\n",
       "      <th>GENDER_MALE</th>\n",
       "      <th>CATEGORY_SC</th>\n",
       "      <th>CATEGORY_ST</th>\n",
       "      <th>PARTY_AIADMK</th>\n",
       "      <th>PARTY_AITC</th>\n",
       "      <th>PARTY_BJD</th>\n",
       "      <th>...</th>\n",
       "      <th>PARTY_YSRCP</th>\n",
       "      <th>EDUCATION_12th Pass</th>\n",
       "      <th>EDUCATION_5th Pass</th>\n",
       "      <th>EDUCATION_8th Pass</th>\n",
       "      <th>EDUCATION_Doctorate</th>\n",
       "      <th>EDUCATION_Graduate</th>\n",
       "      <th>EDUCATION_Graduate Professional</th>\n",
       "      <th>EDUCATION_Illiterate</th>\n",
       "      <th>EDUCATION_Literate</th>\n",
       "      <th>EDUCATION_Post Graduate</th>\n",
       "    </tr>\n",
       "  </thead>\n",
       "  <tbody>\n",
       "    <tr>\n",
       "      <th>0</th>\n",
       "      <td>52</td>\n",
       "      <td>52.0</td>\n",
       "      <td>231450</td>\n",
       "      <td>1489790</td>\n",
       "      <td>1</td>\n",
       "      <td>0</td>\n",
       "      <td>1</td>\n",
       "      <td>0</td>\n",
       "      <td>0</td>\n",
       "      <td>0</td>\n",
       "      <td>...</td>\n",
       "      <td>0</td>\n",
       "      <td>1</td>\n",
       "      <td>0</td>\n",
       "      <td>0</td>\n",
       "      <td>0</td>\n",
       "      <td>0</td>\n",
       "      <td>0</td>\n",
       "      <td>0</td>\n",
       "      <td>0</td>\n",
       "      <td>0</td>\n",
       "    </tr>\n",
       "    <tr>\n",
       "      <th>1</th>\n",
       "      <td>0</td>\n",
       "      <td>54.0</td>\n",
       "      <td>847000</td>\n",
       "      <td>1489790</td>\n",
       "      <td>1</td>\n",
       "      <td>0</td>\n",
       "      <td>1</td>\n",
       "      <td>0</td>\n",
       "      <td>0</td>\n",
       "      <td>0</td>\n",
       "      <td>...</td>\n",
       "      <td>0</td>\n",
       "      <td>0</td>\n",
       "      <td>0</td>\n",
       "      <td>0</td>\n",
       "      <td>0</td>\n",
       "      <td>0</td>\n",
       "      <td>0</td>\n",
       "      <td>0</td>\n",
       "      <td>0</td>\n",
       "      <td>1</td>\n",
       "    </tr>\n",
       "    <tr>\n",
       "      <th>4</th>\n",
       "      <td>5</td>\n",
       "      <td>58.0</td>\n",
       "      <td>8606522</td>\n",
       "      <td>1937690</td>\n",
       "      <td>1</td>\n",
       "      <td>1</td>\n",
       "      <td>0</td>\n",
       "      <td>0</td>\n",
       "      <td>0</td>\n",
       "      <td>0</td>\n",
       "      <td>...</td>\n",
       "      <td>0</td>\n",
       "      <td>0</td>\n",
       "      <td>0</td>\n",
       "      <td>0</td>\n",
       "      <td>1</td>\n",
       "      <td>0</td>\n",
       "      <td>0</td>\n",
       "      <td>0</td>\n",
       "      <td>0</td>\n",
       "      <td>0</td>\n",
       "    </tr>\n",
       "    <tr>\n",
       "      <th>6</th>\n",
       "      <td>0</td>\n",
       "      <td>54.0</td>\n",
       "      <td>0</td>\n",
       "      <td>1937690</td>\n",
       "      <td>0</td>\n",
       "      <td>1</td>\n",
       "      <td>0</td>\n",
       "      <td>0</td>\n",
       "      <td>0</td>\n",
       "      <td>0</td>\n",
       "      <td>...</td>\n",
       "      <td>0</td>\n",
       "      <td>0</td>\n",
       "      <td>0</td>\n",
       "      <td>0</td>\n",
       "      <td>0</td>\n",
       "      <td>0</td>\n",
       "      <td>0</td>\n",
       "      <td>0</td>\n",
       "      <td>0</td>\n",
       "      <td>1</td>\n",
       "    </tr>\n",
       "    <tr>\n",
       "      <th>7</th>\n",
       "      <td>0</td>\n",
       "      <td>37.0</td>\n",
       "      <td>2623964</td>\n",
       "      <td>1861396</td>\n",
       "      <td>1</td>\n",
       "      <td>0</td>\n",
       "      <td>0</td>\n",
       "      <td>0</td>\n",
       "      <td>0</td>\n",
       "      <td>0</td>\n",
       "      <td>...</td>\n",
       "      <td>0</td>\n",
       "      <td>0</td>\n",
       "      <td>0</td>\n",
       "      <td>0</td>\n",
       "      <td>1</td>\n",
       "      <td>0</td>\n",
       "      <td>0</td>\n",
       "      <td>0</td>\n",
       "      <td>0</td>\n",
       "      <td>0</td>\n",
       "    </tr>\n",
       "    <tr>\n",
       "      <th>...</th>\n",
       "      <td>...</td>\n",
       "      <td>...</td>\n",
       "      <td>...</td>\n",
       "      <td>...</td>\n",
       "      <td>...</td>\n",
       "      <td>...</td>\n",
       "      <td>...</td>\n",
       "      <td>...</td>\n",
       "      <td>...</td>\n",
       "      <td>...</td>\n",
       "      <td>...</td>\n",
       "      <td>...</td>\n",
       "      <td>...</td>\n",
       "      <td>...</td>\n",
       "      <td>...</td>\n",
       "      <td>...</td>\n",
       "      <td>...</td>\n",
       "      <td>...</td>\n",
       "      <td>...</td>\n",
       "      <td>...</td>\n",
       "      <td>...</td>\n",
       "    </tr>\n",
       "    <tr>\n",
       "      <th>2257</th>\n",
       "      <td>0</td>\n",
       "      <td>28.0</td>\n",
       "      <td>9000</td>\n",
       "      <td>1916185</td>\n",
       "      <td>0</td>\n",
       "      <td>0</td>\n",
       "      <td>0</td>\n",
       "      <td>0</td>\n",
       "      <td>0</td>\n",
       "      <td>0</td>\n",
       "      <td>...</td>\n",
       "      <td>0</td>\n",
       "      <td>0</td>\n",
       "      <td>0</td>\n",
       "      <td>0</td>\n",
       "      <td>0</td>\n",
       "      <td>0</td>\n",
       "      <td>0</td>\n",
       "      <td>0</td>\n",
       "      <td>0</td>\n",
       "      <td>0</td>\n",
       "    </tr>\n",
       "    <tr>\n",
       "      <th>2258</th>\n",
       "      <td>0</td>\n",
       "      <td>43.0</td>\n",
       "      <td>1020000</td>\n",
       "      <td>1916185</td>\n",
       "      <td>1</td>\n",
       "      <td>0</td>\n",
       "      <td>0</td>\n",
       "      <td>0</td>\n",
       "      <td>0</td>\n",
       "      <td>0</td>\n",
       "      <td>...</td>\n",
       "      <td>0</td>\n",
       "      <td>0</td>\n",
       "      <td>0</td>\n",
       "      <td>0</td>\n",
       "      <td>0</td>\n",
       "      <td>0</td>\n",
       "      <td>0</td>\n",
       "      <td>0</td>\n",
       "      <td>0</td>\n",
       "      <td>1</td>\n",
       "    </tr>\n",
       "    <tr>\n",
       "      <th>2259</th>\n",
       "      <td>18</td>\n",
       "      <td>63.0</td>\n",
       "      <td>11535000</td>\n",
       "      <td>1498666</td>\n",
       "      <td>1</td>\n",
       "      <td>0</td>\n",
       "      <td>0</td>\n",
       "      <td>0</td>\n",
       "      <td>0</td>\n",
       "      <td>0</td>\n",
       "      <td>...</td>\n",
       "      <td>0</td>\n",
       "      <td>0</td>\n",
       "      <td>0</td>\n",
       "      <td>0</td>\n",
       "      <td>0</td>\n",
       "      <td>1</td>\n",
       "      <td>0</td>\n",
       "      <td>0</td>\n",
       "      <td>0</td>\n",
       "      <td>0</td>\n",
       "    </tr>\n",
       "    <tr>\n",
       "      <th>2260</th>\n",
       "      <td>0</td>\n",
       "      <td>49.0</td>\n",
       "      <td>0</td>\n",
       "      <td>1498666</td>\n",
       "      <td>1</td>\n",
       "      <td>0</td>\n",
       "      <td>0</td>\n",
       "      <td>0</td>\n",
       "      <td>0</td>\n",
       "      <td>0</td>\n",
       "      <td>...</td>\n",
       "      <td>0</td>\n",
       "      <td>0</td>\n",
       "      <td>0</td>\n",
       "      <td>0</td>\n",
       "      <td>0</td>\n",
       "      <td>0</td>\n",
       "      <td>0</td>\n",
       "      <td>0</td>\n",
       "      <td>0</td>\n",
       "      <td>1</td>\n",
       "    </tr>\n",
       "    <tr>\n",
       "      <th>2261</th>\n",
       "      <td>3</td>\n",
       "      <td>47.0</td>\n",
       "      <td>5250000</td>\n",
       "      <td>1498666</td>\n",
       "      <td>1</td>\n",
       "      <td>0</td>\n",
       "      <td>0</td>\n",
       "      <td>0</td>\n",
       "      <td>0</td>\n",
       "      <td>0</td>\n",
       "      <td>...</td>\n",
       "      <td>0</td>\n",
       "      <td>1</td>\n",
       "      <td>0</td>\n",
       "      <td>0</td>\n",
       "      <td>0</td>\n",
       "      <td>0</td>\n",
       "      <td>0</td>\n",
       "      <td>0</td>\n",
       "      <td>0</td>\n",
       "      <td>0</td>\n",
       "    </tr>\n",
       "  </tbody>\n",
       "</table>\n",
       "<p>1707 rows × 37 columns</p>\n",
       "</div>"
      ],
      "text/plain": [
       "     CRIMINAL_CASES   AGE  LIABILITIES  TOTAL_ELECTORS  GENDER_MALE  \\\n",
       "0                52  52.0       231450         1489790            1   \n",
       "1                 0  54.0       847000         1489790            1   \n",
       "4                 5  58.0      8606522         1937690            1   \n",
       "6                 0  54.0            0         1937690            0   \n",
       "7                 0  37.0      2623964         1861396            1   \n",
       "...             ...   ...          ...             ...          ...   \n",
       "2257              0  28.0         9000         1916185            0   \n",
       "2258              0  43.0      1020000         1916185            1   \n",
       "2259             18  63.0     11535000         1498666            1   \n",
       "2260              0  49.0            0         1498666            1   \n",
       "2261              3  47.0      5250000         1498666            1   \n",
       "\n",
       "      CATEGORY_SC  CATEGORY_ST  PARTY_AIADMK  PARTY_AITC  PARTY_BJD  ...  \\\n",
       "0               0            1             0           0          0  ...   \n",
       "1               0            1             0           0          0  ...   \n",
       "4               1            0             0           0          0  ...   \n",
       "6               1            0             0           0          0  ...   \n",
       "7               0            0             0           0          0  ...   \n",
       "...           ...          ...           ...         ...        ...  ...   \n",
       "2257            0            0             0           0          0  ...   \n",
       "2258            0            0             0           0          0  ...   \n",
       "2259            0            0             0           0          0  ...   \n",
       "2260            0            0             0           0          0  ...   \n",
       "2261            0            0             0           0          0  ...   \n",
       "\n",
       "      PARTY_YSRCP  EDUCATION_12th Pass  EDUCATION_5th Pass  \\\n",
       "0               0                    1                   0   \n",
       "1               0                    0                   0   \n",
       "4               0                    0                   0   \n",
       "6               0                    0                   0   \n",
       "7               0                    0                   0   \n",
       "...           ...                  ...                 ...   \n",
       "2257            0                    0                   0   \n",
       "2258            0                    0                   0   \n",
       "2259            0                    0                   0   \n",
       "2260            0                    0                   0   \n",
       "2261            0                    1                   0   \n",
       "\n",
       "      EDUCATION_8th Pass  EDUCATION_Doctorate  EDUCATION_Graduate  \\\n",
       "0                      0                    0                   0   \n",
       "1                      0                    0                   0   \n",
       "4                      0                    1                   0   \n",
       "6                      0                    0                   0   \n",
       "7                      0                    1                   0   \n",
       "...                  ...                  ...                 ...   \n",
       "2257                   0                    0                   0   \n",
       "2258                   0                    0                   0   \n",
       "2259                   0                    0                   1   \n",
       "2260                   0                    0                   0   \n",
       "2261                   0                    0                   0   \n",
       "\n",
       "      EDUCATION_Graduate Professional  EDUCATION_Illiterate  \\\n",
       "0                                   0                     0   \n",
       "1                                   0                     0   \n",
       "4                                   0                     0   \n",
       "6                                   0                     0   \n",
       "7                                   0                     0   \n",
       "...                               ...                   ...   \n",
       "2257                                0                     0   \n",
       "2258                                0                     0   \n",
       "2259                                0                     0   \n",
       "2260                                0                     0   \n",
       "2261                                0                     0   \n",
       "\n",
       "      EDUCATION_Literate  EDUCATION_Post Graduate  \n",
       "0                      0                        0  \n",
       "1                      0                        1  \n",
       "4                      0                        0  \n",
       "6                      0                        1  \n",
       "7                      0                        0  \n",
       "...                  ...                      ...  \n",
       "2257                   0                        0  \n",
       "2258                   0                        1  \n",
       "2259                   0                        0  \n",
       "2260                   0                        1  \n",
       "2261                   0                        0  \n",
       "\n",
       "[1707 rows x 37 columns]"
      ]
     },
     "execution_count": 39,
     "metadata": {},
     "output_type": "execute_result"
    }
   ],
   "source": [
    "# print x\n",
    "X"
   ]
  },
  {
   "cell_type": "code",
   "execution_count": 40,
   "id": "5425f88e",
   "metadata": {},
   "outputs": [
    {
     "data": {
      "text/plain": [
       "0       1\n",
       "1       0\n",
       "4       1\n",
       "6       0\n",
       "7       1\n",
       "       ..\n",
       "2257    0\n",
       "2258    0\n",
       "2259    1\n",
       "2260    0\n",
       "2261    0\n",
       "Name: WINNER, Length: 1707, dtype: int64"
      ]
     },
     "execution_count": 40,
     "metadata": {},
     "output_type": "execute_result"
    }
   ],
   "source": [
    "# print y\n",
    "y"
   ]
  },
  {
   "cell_type": "code",
   "execution_count": 41,
   "id": "841afe4d",
   "metadata": {},
   "outputs": [],
   "source": [
    "from sklearn.model_selection import train_test_split\n",
    "X_train,X_test,y_train,y_test = train_test_split(X,y, random_state = 42,test_size =0.25)"
   ]
  },
  {
   "cell_type": "code",
   "execution_count": 42,
   "id": "2d93c32e",
   "metadata": {},
   "outputs": [
    {
     "data": {
      "text/plain": [
       "(1280, 37)"
      ]
     },
     "execution_count": 42,
     "metadata": {},
     "output_type": "execute_result"
    }
   ],
   "source": [
    "X_train.shape"
   ]
  },
  {
   "cell_type": "code",
   "execution_count": 43,
   "id": "9998b0cc",
   "metadata": {},
   "outputs": [
    {
     "data": {
      "text/plain": [
       "(427, 37)"
      ]
     },
     "execution_count": 43,
     "metadata": {},
     "output_type": "execute_result"
    }
   ],
   "source": [
    "X_test.shape"
   ]
  },
  {
   "cell_type": "markdown",
   "id": "42a39eaf",
   "metadata": {},
   "source": [
    "### 2.5 Standardization/Normalization"
   ]
  },
  {
   "cell_type": "code",
   "execution_count": 44,
   "id": "2f1689ba",
   "metadata": {},
   "outputs": [],
   "source": [
    "from sklearn.preprocessing import StandardScaler\n"
   ]
  },
  {
   "cell_type": "code",
   "execution_count": 45,
   "id": "f7f63606",
   "metadata": {},
   "outputs": [],
   "source": [
    "sc = StandardScaler()\n",
    "X_train =sc.fit_transform(X_train)\n",
    "X_test = sc.fit_transform(X_test)\n"
   ]
  },
  {
   "cell_type": "code",
   "execution_count": 46,
   "id": "d255ce26",
   "metadata": {},
   "outputs": [
    {
     "data": {
      "text/plain": [
       "(1280, 37)"
      ]
     },
     "execution_count": 46,
     "metadata": {},
     "output_type": "execute_result"
    }
   ],
   "source": [
    "X_train.shape"
   ]
  },
  {
   "cell_type": "markdown",
   "id": "d44090a4",
   "metadata": {},
   "source": [
    "# 3. Exploratory Data Analysis"
   ]
  },
  {
   "cell_type": "code",
   "execution_count": 47,
   "id": "fa5b5638",
   "metadata": {},
   "outputs": [
    {
     "name": "stdout",
     "output_type": "stream",
     "text": [
      "<class 'pandas.core.frame.DataFrame'>\n",
      "Int64Index: 1707 entries, 0 to 2261\n",
      "Data columns (total 10 columns):\n",
      " #   Column          Non-Null Count  Dtype  \n",
      "---  ------          --------------  -----  \n",
      " 0   WINNER          1707 non-null   int64  \n",
      " 1   PARTY           1707 non-null   object \n",
      " 2   GENDER          1707 non-null   object \n",
      " 3   CRIMINAL_CASES  1707 non-null   object \n",
      " 4   AGE             1707 non-null   float64\n",
      " 5   CATEGORY        1707 non-null   object \n",
      " 6   EDUCATION       1707 non-null   object \n",
      " 7   ASSETS          1707 non-null   object \n",
      " 8   LIABILITIES     1707 non-null   int32  \n",
      " 9   TOTAL_ELECTORS  1707 non-null   int64  \n",
      "dtypes: float64(1), int32(1), int64(2), object(6)\n",
      "memory usage: 140.0+ KB\n"
     ]
    }
   ],
   "source": [
    "data.info()"
   ]
  },
  {
   "cell_type": "code",
   "execution_count": 48,
   "id": "40cc1ddb",
   "metadata": {},
   "outputs": [
    {
     "data": {
      "text/html": [
       "<div>\n",
       "<style scoped>\n",
       "    .dataframe tbody tr th:only-of-type {\n",
       "        vertical-align: middle;\n",
       "    }\n",
       "\n",
       "    .dataframe tbody tr th {\n",
       "        vertical-align: top;\n",
       "    }\n",
       "\n",
       "    .dataframe thead th {\n",
       "        text-align: right;\n",
       "    }\n",
       "</style>\n",
       "<table border=\"1\" class=\"dataframe\">\n",
       "  <thead>\n",
       "    <tr style=\"text-align: right;\">\n",
       "      <th></th>\n",
       "      <th>WINNER</th>\n",
       "      <th>AGE</th>\n",
       "      <th>LIABILITIES</th>\n",
       "      <th>TOTAL_ELECTORS</th>\n",
       "    </tr>\n",
       "  </thead>\n",
       "  <tbody>\n",
       "    <tr>\n",
       "      <th>count</th>\n",
       "      <td>1707.000000</td>\n",
       "      <td>1707.000000</td>\n",
       "      <td>1.707000e+03</td>\n",
       "      <td>1.707000e+03</td>\n",
       "    </tr>\n",
       "    <tr>\n",
       "      <th>mean</th>\n",
       "      <td>0.246632</td>\n",
       "      <td>52.171646</td>\n",
       "      <td>1.978619e+06</td>\n",
       "      <td>1.647403e+06</td>\n",
       "    </tr>\n",
       "    <tr>\n",
       "      <th>std</th>\n",
       "      <td>0.431177</td>\n",
       "      <td>12.032311</td>\n",
       "      <td>3.195276e+06</td>\n",
       "      <td>3.067866e+05</td>\n",
       "    </tr>\n",
       "    <tr>\n",
       "      <th>min</th>\n",
       "      <td>0.000000</td>\n",
       "      <td>25.000000</td>\n",
       "      <td>0.000000e+00</td>\n",
       "      <td>5.518900e+04</td>\n",
       "    </tr>\n",
       "    <tr>\n",
       "      <th>25%</th>\n",
       "      <td>0.000000</td>\n",
       "      <td>43.000000</td>\n",
       "      <td>0.000000e+00</td>\n",
       "      <td>1.525150e+06</td>\n",
       "    </tr>\n",
       "    <tr>\n",
       "      <th>50%</th>\n",
       "      <td>0.000000</td>\n",
       "      <td>53.000000</td>\n",
       "      <td>4.166120e+05</td>\n",
       "      <td>1.683325e+06</td>\n",
       "    </tr>\n",
       "    <tr>\n",
       "      <th>75%</th>\n",
       "      <td>0.000000</td>\n",
       "      <td>61.000000</td>\n",
       "      <td>2.500000e+06</td>\n",
       "      <td>1.811851e+06</td>\n",
       "    </tr>\n",
       "    <tr>\n",
       "      <th>max</th>\n",
       "      <td>1.000000</td>\n",
       "      <td>86.000000</td>\n",
       "      <td>1.516338e+07</td>\n",
       "      <td>3.150313e+06</td>\n",
       "    </tr>\n",
       "  </tbody>\n",
       "</table>\n",
       "</div>"
      ],
      "text/plain": [
       "            WINNER          AGE   LIABILITIES  TOTAL_ELECTORS\n",
       "count  1707.000000  1707.000000  1.707000e+03    1.707000e+03\n",
       "mean      0.246632    52.171646  1.978619e+06    1.647403e+06\n",
       "std       0.431177    12.032311  3.195276e+06    3.067866e+05\n",
       "min       0.000000    25.000000  0.000000e+00    5.518900e+04\n",
       "25%       0.000000    43.000000  0.000000e+00    1.525150e+06\n",
       "50%       0.000000    53.000000  4.166120e+05    1.683325e+06\n",
       "75%       0.000000    61.000000  2.500000e+06    1.811851e+06\n",
       "max       1.000000    86.000000  1.516338e+07    3.150313e+06"
      ]
     },
     "execution_count": 48,
     "metadata": {},
     "output_type": "execute_result"
    }
   ],
   "source": [
    "# Check the descriptive statistics\n",
    "data.describe()"
   ]
  },
  {
   "cell_type": "markdown",
   "id": "9b589515",
   "metadata": {},
   "source": [
    "India has highest number of young voters. Lets the distribution in 2019 Election"
   ]
  },
  {
   "cell_type": "markdown",
   "id": "d6dab20e",
   "metadata": {},
   "source": [
    "#### Age Distribution"
   ]
  },
  {
   "cell_type": "code",
   "execution_count": 49,
   "id": "0df82fd1",
   "metadata": {},
   "outputs": [
    {
     "name": "stderr",
     "output_type": "stream",
     "text": [
      "C:\\Users\\Reghunath\\anaconda3\\lib\\site-packages\\seaborn\\distributions.py:2557: FutureWarning: `distplot` is a deprecated function and will be removed in a future version. Please adapt your code to use either `displot` (a figure-level function with similar flexibility) or `histplot` (an axes-level function for histograms).\n",
      "  warnings.warn(msg, FutureWarning)\n",
      "C:\\Users\\Reghunath\\anaconda3\\lib\\site-packages\\seaborn\\distributions.py:2056: FutureWarning: The `axis` variable is no longer used and will be removed. Instead, assign variables directly to `x` or `y`.\n",
      "  warnings.warn(msg, FutureWarning)\n"
     ]
    },
    {
     "data": {
      "image/png": "[encoded data removed]",
      "text/plain": [
       "<Figure size 1440x720 with 1 Axes>"
      ]
     },
     "metadata": {
      "needs_background": "light"
     },
     "output_type": "display_data"
    }
   ],
   "source": [
    "plt.figure(figsize=(20,10))\n",
    "plt.style.use('ggplot')\n",
    "sns.distplot(data['AGE'],rug=True)\n",
    "            \n",
    "plt.yticks([])\n",
    "plt.xticks(fontsize=22)\n",
    "plt.show()"
   ]
  },
  {
   "cell_type": "markdown",
   "id": "1309d6c8",
   "metadata": {},
   "source": [
    "From fig, average age is around 50 and is normally distributed"
   ]
  },
  {
   "cell_type": "markdown",
   "id": "d9d00bb7",
   "metadata": {},
   "source": [
    "#### Number of candidates by top 10 party"
   ]
  },
  {
   "cell_type": "code",
   "execution_count": 50,
   "id": "15dc50e9",
   "metadata": {},
   "outputs": [
    {
     "data": {
      "image/png": "[encoded data removed]",
      "text/plain": [
       "<Figure size 1296x720 with 1 Axes>"
      ]
     },
     "metadata": {},
     "output_type": "display_data"
    }
   ],
   "source": [
    "plt.figure(figsize=(18,10))\n",
    "sns.countplot(x='PARTY',data=data,order=data.PARTY.value_counts().iloc[:10].index)\n",
    "plt.ylabel('No. of Candidates')\n",
    "plt.xticks(fontsize=20,fontweight=1000)\n",
    "plt.yticks(fontsize=20)\n",
    "plt.xlabel('Party',fontsize=20,fontweight = 'bold')\n",
    "plt.xlabel('No. of Candidates',fontsize=20,fontweight = 'bold')\n",
    "plt.show()"
   ]
  },
  {
   "cell_type": "markdown",
   "id": "1d886f50",
   "metadata": {},
   "source": [
    "#### Gender Distribution of Candidates"
   ]
  },
  {
   "cell_type": "code",
   "execution_count": 51,
   "id": "2ca57c79",
   "metadata": {},
   "outputs": [
    {
     "data": {
      "image/png": "[encoded data removed]",
      "text/plain": [
       "<Figure size 1152x576 with 1 Axes>"
      ]
     },
     "metadata": {},
     "output_type": "display_data"
    }
   ],
   "source": [
    "plt.figure(figsize=(16,8))\n",
    "plt.pie(data['GENDER'].value_counts(),labels =['Male','Female'],explode = (0, 0.1),shadow=True,autopct='%1.1f%%')\n",
    "plt.show()"
   ]
  },
  {
   "cell_type": "markdown",
   "id": "89ffda95",
   "metadata": {},
   "source": [
    "### Age Distribution of Candidates w.r.t gender and category"
   ]
  },
  {
   "cell_type": "code",
   "execution_count": 52,
   "id": "066f04c9",
   "metadata": {},
   "outputs": [
    {
     "data": {
      "image/png": "[encoded data removed]",
      "text/plain": [
       "<Figure size 1152x576 with 1 Axes>"
      ]
     },
     "metadata": {},
     "output_type": "display_data"
    }
   ],
   "source": [
    "plt.figure(figsize=(16,8))\n",
    "sns.violinplot(x='CATEGORY',y='AGE',data=data,hue='GENDER',split=True)\n",
    "plt.xticks(fontsize=20,fontweight=200)\n",
    "plt.yticks(fontsize=20)\n",
    "plt.show()"
   ]
  },
  {
   "cell_type": "markdown",
   "id": "323e29bf",
   "metadata": {},
   "source": [
    "#### Analyzing the age distribution of candidates of the top 15 parties"
   ]
  },
  {
   "cell_type": "code",
   "execution_count": 53,
   "id": "84544d24",
   "metadata": {},
   "outputs": [
    {
     "data": {
      "image/png": "[encoded data removed]",
      "text/plain": [
       "<Figure size 1440x1008 with 1 Axes>"
      ]
     },
     "metadata": {},
     "output_type": "display_data"
    }
   ],
   "source": [
    "plt.figure(figsize=(20,14))\n",
    "sns.boxplot(x='PARTY',y='AGE',data=data,order=data.PARTY.value_counts().iloc[:15].index)\n",
    "plt.xlabel('Party')\n",
    "plt.ylabel('Age')\n",
    "plt.xticks(fontsize=20,fontweight='bold')\n",
    "plt.yticks(fontsize=17)\n",
    "plt.xlabel('Party',fontsize=20,fontweight='bold')\n",
    "plt.ylabel('Age',fontsize=20,fontweight='bold')\n",
    "plt.show()"
   ]
  },
  {
   "cell_type": "markdown",
   "id": "bb7c0b37",
   "metadata": {},
   "source": [
    "Clearly, 'AITC' and 'VBA' has the most distributed candisates with their age., and NTK has youngest candiates"
   ]
  },
  {
   "cell_type": "code",
   "execution_count": 54,
   "id": "8f9e95fd",
   "metadata": {},
   "outputs": [
    {
     "data": {
      "image/png": "[encoded data removed]",
      "text/plain": [
       "<Figure size 1152x576 with 1 Axes>"
      ]
     },
     "metadata": {},
     "output_type": "display_data"
    }
   ],
   "source": [
    "labels=list(dict(data['EDUCATION'].value_counts()))\n",
    "d1=list(data['EDUCATION'].value_counts())\n",
    "plt.figure(figsize=(16,8))\n",
    "plt.pie(d1,labels = labels,shadow=True,autopct='%1.1f%%')\n",
    "plt.title('Educational Background of candidates')\n",
    "plt.show()"
   ]
  },
  {
   "cell_type": "markdown",
   "id": "e564e430",
   "metadata": {},
   "source": [
    "# 4. Modeling"
   ]
  },
  {
   "cell_type": "markdown",
   "id": "4cd00d14",
   "metadata": {},
   "source": [
    "#### Logistic Regression"
   ]
  },
  {
   "cell_type": "code",
   "execution_count": 55,
   "id": "616bf666",
   "metadata": {},
   "outputs": [
    {
     "data": {
      "text/plain": [
       "LogisticRegression()"
      ]
     },
     "execution_count": 55,
     "metadata": {},
     "output_type": "execute_result"
    }
   ],
   "source": [
    "from sklearn.linear_model import LogisticRegression\n",
    "logit_model = LogisticRegression()\n",
    "logit_model.fit(X_train,y_train)"
   ]
  },
  {
   "cell_type": "markdown",
   "id": "49011d4e",
   "metadata": {},
   "source": [
    "Predict on Test Set"
   ]
  },
  {
   "cell_type": "code",
   "execution_count": 56,
   "id": "e47a76fe",
   "metadata": {},
   "outputs": [],
   "source": [
    "y_pred = logit_model.predict(X_test)"
   ]
  },
  {
   "cell_type": "code",
   "execution_count": 57,
   "id": "4a308e0b",
   "metadata": {},
   "outputs": [],
   "source": [
    "from sklearn.metrics import confusion_matrix, accuracy_score, precision_score, recall_score, f1_score"
   ]
  },
  {
   "cell_type": "markdown",
   "id": "3ced4c52",
   "metadata": {},
   "source": [
    "Measuring Accuracy"
   ]
  },
  {
   "cell_type": "code",
   "execution_count": 58,
   "id": "51ed67cc",
   "metadata": {},
   "outputs": [
    {
     "name": "stdout",
     "output_type": "stream",
     "text": [
      "Accuracy is :  0.8711943793911007\n"
     ]
    }
   ],
   "source": [
    "print('Accuracy is : ',accuracy_score(y_test,y_pred))\n"
   ]
  },
  {
   "cell_type": "code",
   "execution_count": 59,
   "id": "6699e237",
   "metadata": {},
   "outputs": [
    {
     "data": {
      "text/plain": [
       "array([[305,  28],\n",
       "       [ 27,  67]], dtype=int64)"
      ]
     },
     "execution_count": 59,
     "metadata": {},
     "output_type": "execute_result"
    }
   ],
   "source": [
    "# check matrix values\n",
    "confusion_matrix(y_test,y_pred)"
   ]
  },
  {
   "cell_type": "markdown",
   "id": "d0ce184f",
   "metadata": {},
   "source": [
    "#### KNN Regression"
   ]
  },
  {
   "cell_type": "code",
   "execution_count": 60,
   "id": "db1eaec8",
   "metadata": {},
   "outputs": [],
   "source": [
    "from sklearn.neighbors import KNeighborsClassifier\n",
    "acc_values = []\n",
    "neighbors = np.arange(3,15)"
   ]
  },
  {
   "cell_type": "code",
   "execution_count": 61,
   "id": "2dda85f2",
   "metadata": {},
   "outputs": [],
   "source": [
    "for k in neighbors:\n",
    "    classifier =KNeighborsClassifier(n_neighbors =k, metric='minkowski')\n",
    "    classifier.fit(X_train,y_train)\n",
    "    y_pred = classifier.predict(X_test)\n",
    "    acc = accuracy_score(y_test,y_pred)\n",
    "    acc_values.append(acc)"
   ]
  },
  {
   "cell_type": "code",
   "execution_count": 62,
   "id": "91912e47",
   "metadata": {},
   "outputs": [
    {
     "data": {
      "text/plain": [
       "[0.8524590163934426,\n",
       " 0.8571428571428571,\n",
       " 0.8641686182669789,\n",
       " 0.8665105386416861,\n",
       " 0.8641686182669789,\n",
       " 0.8665105386416861,\n",
       " 0.8688524590163934,\n",
       " 0.8688524590163934,\n",
       " 0.8711943793911007,\n",
       " 0.8618266978922716,\n",
       " 0.8665105386416861,\n",
       " 0.8688524590163934]"
      ]
     },
     "execution_count": 62,
     "metadata": {},
     "output_type": "execute_result"
    }
   ],
   "source": [
    "acc_values"
   ]
  },
  {
   "cell_type": "code",
   "execution_count": 63,
   "id": "0010c50b",
   "metadata": {},
   "outputs": [
    {
     "data": {
      "text/plain": [
       "Text(0, 0.5, 'accuracy')"
      ]
     },
     "execution_count": 63,
     "metadata": {},
     "output_type": "execute_result"
    },
    {
     "data": {
      "image/png": "[encoded data removed]",
      "text/plain": [
       "<Figure size 432x288 with 1 Axes>"
      ]
     },
     "metadata": {},
     "output_type": "display_data"
    }
   ],
   "source": [
    "# check for which k value , we get highest accuracy\n",
    "plt.plot(neighbors,acc_values,'o-')\n",
    "plt.xlabel('K Value')\n",
    "plt.ylabel('accuracy')"
   ]
  },
  {
   "cell_type": "code",
   "execution_count": 64,
   "id": "77d11071",
   "metadata": {},
   "outputs": [],
   "source": [
    "classifier =KNeighborsClassifier(n_neighbors = 11, metric='minkowski')\n",
    "classifier.fit(X_train,y_train)\n",
    "y_pred = classifier.predict(X_test)"
   ]
  },
  {
   "cell_type": "markdown",
   "id": "e4096213",
   "metadata": {},
   "source": [
    "Measuring Accurancy for KNN"
   ]
  },
  {
   "cell_type": "code",
   "execution_count": 65,
   "id": "35e2bbde",
   "metadata": {},
   "outputs": [
    {
     "name": "stdout",
     "output_type": "stream",
     "text": [
      "Accuracy is :  0.8711943793911007\n"
     ]
    }
   ],
   "source": [
    "print('Accuracy is : ',accuracy_score(y_test,y_pred))"
   ]
  },
  {
   "cell_type": "code",
   "execution_count": 66,
   "id": "c878b541",
   "metadata": {},
   "outputs": [
    {
     "data": {
      "text/plain": [
       "array([[308,  25],\n",
       "       [ 30,  64]], dtype=int64)"
      ]
     },
     "execution_count": 66,
     "metadata": {},
     "output_type": "execute_result"
    }
   ],
   "source": [
    "# check matrix values\n",
    "confusion_matrix(y_test,y_pred)"
   ]
  },
  {
   "cell_type": "code",
   "execution_count": 67,
   "id": "982c309d",
   "metadata": {},
   "outputs": [
    {
     "data": {
      "text/html": [
       "<div>\n",
       "<style scoped>\n",
       "    .dataframe tbody tr th:only-of-type {\n",
       "        vertical-align: middle;\n",
       "    }\n",
       "\n",
       "    .dataframe tbody tr th {\n",
       "        vertical-align: top;\n",
       "    }\n",
       "\n",
       "    .dataframe thead th {\n",
       "        text-align: right;\n",
       "    }\n",
       "</style>\n",
       "<table border=\"1\" class=\"dataframe\">\n",
       "  <thead>\n",
       "    <tr style=\"text-align: right;\">\n",
       "      <th></th>\n",
       "      <th>WINNER</th>\n",
       "      <th>AGE</th>\n",
       "      <th>LIABILITIES</th>\n",
       "      <th>TOTAL_ELECTORS</th>\n",
       "      <th>GENDER_MALE</th>\n",
       "      <th>CATEGORY_SC</th>\n",
       "      <th>CATEGORY_ST</th>\n",
       "      <th>PARTY_AIADMK</th>\n",
       "      <th>PARTY_AITC</th>\n",
       "      <th>PARTY_BJD</th>\n",
       "      <th>...</th>\n",
       "      <th>PARTY_YSRCP</th>\n",
       "      <th>EDUCATION_12th Pass</th>\n",
       "      <th>EDUCATION_5th Pass</th>\n",
       "      <th>EDUCATION_8th Pass</th>\n",
       "      <th>EDUCATION_Doctorate</th>\n",
       "      <th>EDUCATION_Graduate</th>\n",
       "      <th>EDUCATION_Graduate Professional</th>\n",
       "      <th>EDUCATION_Illiterate</th>\n",
       "      <th>EDUCATION_Literate</th>\n",
       "      <th>EDUCATION_Post Graduate</th>\n",
       "    </tr>\n",
       "  </thead>\n",
       "  <tbody>\n",
       "    <tr>\n",
       "      <th>count</th>\n",
       "      <td>1707.000000</td>\n",
       "      <td>1707.000000</td>\n",
       "      <td>1.707000e+03</td>\n",
       "      <td>1.707000e+03</td>\n",
       "      <td>1707.000000</td>\n",
       "      <td>1707.000000</td>\n",
       "      <td>1707.000000</td>\n",
       "      <td>1707.000000</td>\n",
       "      <td>1707.000000</td>\n",
       "      <td>1707.000000</td>\n",
       "      <td>...</td>\n",
       "      <td>1707.000000</td>\n",
       "      <td>1707.000000</td>\n",
       "      <td>1707.000000</td>\n",
       "      <td>1707.000000</td>\n",
       "      <td>1707.000000</td>\n",
       "      <td>1707.000000</td>\n",
       "      <td>1707.000000</td>\n",
       "      <td>1707.000000</td>\n",
       "      <td>1707.000000</td>\n",
       "      <td>1707.000000</td>\n",
       "    </tr>\n",
       "    <tr>\n",
       "      <th>mean</th>\n",
       "      <td>0.246632</td>\n",
       "      <td>52.171646</td>\n",
       "      <td>1.978619e+06</td>\n",
       "      <td>1.647403e+06</td>\n",
       "      <td>0.871119</td>\n",
       "      <td>0.213240</td>\n",
       "      <td>0.133568</td>\n",
       "      <td>0.008202</td>\n",
       "      <td>0.025776</td>\n",
       "      <td>0.011131</td>\n",
       "      <td>...</td>\n",
       "      <td>0.006444</td>\n",
       "      <td>0.124194</td>\n",
       "      <td>0.014646</td>\n",
       "      <td>0.042765</td>\n",
       "      <td>0.038664</td>\n",
       "      <td>0.216169</td>\n",
       "      <td>0.166960</td>\n",
       "      <td>0.039250</td>\n",
       "      <td>0.015231</td>\n",
       "      <td>0.246632</td>\n",
       "    </tr>\n",
       "    <tr>\n",
       "      <th>std</th>\n",
       "      <td>0.431177</td>\n",
       "      <td>12.032311</td>\n",
       "      <td>3.195276e+06</td>\n",
       "      <td>3.067866e+05</td>\n",
       "      <td>0.335166</td>\n",
       "      <td>0.409716</td>\n",
       "      <td>0.340287</td>\n",
       "      <td>0.090217</td>\n",
       "      <td>0.158513</td>\n",
       "      <td>0.104944</td>\n",
       "      <td>...</td>\n",
       "      <td>0.080039</td>\n",
       "      <td>0.329900</td>\n",
       "      <td>0.120165</td>\n",
       "      <td>0.202386</td>\n",
       "      <td>0.192850</td>\n",
       "      <td>0.411751</td>\n",
       "      <td>0.373049</td>\n",
       "      <td>0.194246</td>\n",
       "      <td>0.122508</td>\n",
       "      <td>0.431177</td>\n",
       "    </tr>\n",
       "    <tr>\n",
       "      <th>min</th>\n",
       "      <td>0.000000</td>\n",
       "      <td>25.000000</td>\n",
       "      <td>0.000000e+00</td>\n",
       "      <td>5.518900e+04</td>\n",
       "      <td>0.000000</td>\n",
       "      <td>0.000000</td>\n",
       "      <td>0.000000</td>\n",
       "      <td>0.000000</td>\n",
       "      <td>0.000000</td>\n",
       "      <td>0.000000</td>\n",
       "      <td>...</td>\n",
       "      <td>0.000000</td>\n",
       "      <td>0.000000</td>\n",
       "      <td>0.000000</td>\n",
       "      <td>0.000000</td>\n",
       "      <td>0.000000</td>\n",
       "      <td>0.000000</td>\n",
       "      <td>0.000000</td>\n",
       "      <td>0.000000</td>\n",
       "      <td>0.000000</td>\n",
       "      <td>0.000000</td>\n",
       "    </tr>\n",
       "    <tr>\n",
       "      <th>25%</th>\n",
       "      <td>0.000000</td>\n",
       "      <td>43.000000</td>\n",
       "      <td>0.000000e+00</td>\n",
       "      <td>1.525150e+06</td>\n",
       "      <td>1.000000</td>\n",
       "      <td>0.000000</td>\n",
       "      <td>0.000000</td>\n",
       "      <td>0.000000</td>\n",
       "      <td>0.000000</td>\n",
       "      <td>0.000000</td>\n",
       "      <td>...</td>\n",
       "      <td>0.000000</td>\n",
       "      <td>0.000000</td>\n",
       "      <td>0.000000</td>\n",
       "      <td>0.000000</td>\n",
       "      <td>0.000000</td>\n",
       "      <td>0.000000</td>\n",
       "      <td>0.000000</td>\n",
       "      <td>0.000000</td>\n",
       "      <td>0.000000</td>\n",
       "      <td>0.000000</td>\n",
       "    </tr>\n",
       "    <tr>\n",
       "      <th>50%</th>\n",
       "      <td>0.000000</td>\n",
       "      <td>53.000000</td>\n",
       "      <td>4.166120e+05</td>\n",
       "      <td>1.683325e+06</td>\n",
       "      <td>1.000000</td>\n",
       "      <td>0.000000</td>\n",
       "      <td>0.000000</td>\n",
       "      <td>0.000000</td>\n",
       "      <td>0.000000</td>\n",
       "      <td>0.000000</td>\n",
       "      <td>...</td>\n",
       "      <td>0.000000</td>\n",
       "      <td>0.000000</td>\n",
       "      <td>0.000000</td>\n",
       "      <td>0.000000</td>\n",
       "      <td>0.000000</td>\n",
       "      <td>0.000000</td>\n",
       "      <td>0.000000</td>\n",
       "      <td>0.000000</td>\n",
       "      <td>0.000000</td>\n",
       "      <td>0.000000</td>\n",
       "    </tr>\n",
       "    <tr>\n",
       "      <th>75%</th>\n",
       "      <td>0.000000</td>\n",
       "      <td>61.000000</td>\n",
       "      <td>2.500000e+06</td>\n",
       "      <td>1.811851e+06</td>\n",
       "      <td>1.000000</td>\n",
       "      <td>0.000000</td>\n",
       "      <td>0.000000</td>\n",
       "      <td>0.000000</td>\n",
       "      <td>0.000000</td>\n",
       "      <td>0.000000</td>\n",
       "      <td>...</td>\n",
       "      <td>0.000000</td>\n",
       "      <td>0.000000</td>\n",
       "      <td>0.000000</td>\n",
       "      <td>0.000000</td>\n",
       "      <td>0.000000</td>\n",
       "      <td>0.000000</td>\n",
       "      <td>0.000000</td>\n",
       "      <td>0.000000</td>\n",
       "      <td>0.000000</td>\n",
       "      <td>0.000000</td>\n",
       "    </tr>\n",
       "    <tr>\n",
       "      <th>max</th>\n",
       "      <td>1.000000</td>\n",
       "      <td>86.000000</td>\n",
       "      <td>1.516338e+07</td>\n",
       "      <td>3.150313e+06</td>\n",
       "      <td>1.000000</td>\n",
       "      <td>1.000000</td>\n",
       "      <td>1.000000</td>\n",
       "      <td>1.000000</td>\n",
       "      <td>1.000000</td>\n",
       "      <td>1.000000</td>\n",
       "      <td>...</td>\n",
       "      <td>1.000000</td>\n",
       "      <td>1.000000</td>\n",
       "      <td>1.000000</td>\n",
       "      <td>1.000000</td>\n",
       "      <td>1.000000</td>\n",
       "      <td>1.000000</td>\n",
       "      <td>1.000000</td>\n",
       "      <td>1.000000</td>\n",
       "      <td>1.000000</td>\n",
       "      <td>1.000000</td>\n",
       "    </tr>\n",
       "  </tbody>\n",
       "</table>\n",
       "<p>8 rows × 37 columns</p>\n",
       "</div>"
      ],
      "text/plain": [
       "            WINNER          AGE   LIABILITIES  TOTAL_ELECTORS  GENDER_MALE  \\\n",
       "count  1707.000000  1707.000000  1.707000e+03    1.707000e+03  1707.000000   \n",
       "mean      0.246632    52.171646  1.978619e+06    1.647403e+06     0.871119   \n",
       "std       0.431177    12.032311  3.195276e+06    3.067866e+05     0.335166   \n",
       "min       0.000000    25.000000  0.000000e+00    5.518900e+04     0.000000   \n",
       "25%       0.000000    43.000000  0.000000e+00    1.525150e+06     1.000000   \n",
       "50%       0.000000    53.000000  4.166120e+05    1.683325e+06     1.000000   \n",
       "75%       0.000000    61.000000  2.500000e+06    1.811851e+06     1.000000   \n",
       "max       1.000000    86.000000  1.516338e+07    3.150313e+06     1.000000   \n",
       "\n",
       "       CATEGORY_SC  CATEGORY_ST  PARTY_AIADMK   PARTY_AITC    PARTY_BJD  ...  \\\n",
       "count  1707.000000  1707.000000   1707.000000  1707.000000  1707.000000  ...   \n",
       "mean      0.213240     0.133568      0.008202     0.025776     0.011131  ...   \n",
       "std       0.409716     0.340287      0.090217     0.158513     0.104944  ...   \n",
       "min       0.000000     0.000000      0.000000     0.000000     0.000000  ...   \n",
       "25%       0.000000     0.000000      0.000000     0.000000     0.000000  ...   \n",
       "50%       0.000000     0.000000      0.000000     0.000000     0.000000  ...   \n",
       "75%       0.000000     0.000000      0.000000     0.000000     0.000000  ...   \n",
       "max       1.000000     1.000000      1.000000     1.000000     1.000000  ...   \n",
       "\n",
       "       PARTY_YSRCP  EDUCATION_12th Pass  EDUCATION_5th Pass  \\\n",
       "count  1707.000000          1707.000000         1707.000000   \n",
       "mean      0.006444             0.124194            0.014646   \n",
       "std       0.080039             0.329900            0.120165   \n",
       "min       0.000000             0.000000            0.000000   \n",
       "25%       0.000000             0.000000            0.000000   \n",
       "50%       0.000000             0.000000            0.000000   \n",
       "75%       0.000000             0.000000            0.000000   \n",
       "max       1.000000             1.000000            1.000000   \n",
       "\n",
       "       EDUCATION_8th Pass  EDUCATION_Doctorate  EDUCATION_Graduate  \\\n",
       "count         1707.000000          1707.000000         1707.000000   \n",
       "mean             0.042765             0.038664            0.216169   \n",
       "std              0.202386             0.192850            0.411751   \n",
       "min              0.000000             0.000000            0.000000   \n",
       "25%              0.000000             0.000000            0.000000   \n",
       "50%              0.000000             0.000000            0.000000   \n",
       "75%              0.000000             0.000000            0.000000   \n",
       "max              1.000000             1.000000            1.000000   \n",
       "\n",
       "       EDUCATION_Graduate Professional  EDUCATION_Illiterate  \\\n",
       "count                      1707.000000           1707.000000   \n",
       "mean                          0.166960              0.039250   \n",
       "std                           0.373049              0.194246   \n",
       "min                           0.000000              0.000000   \n",
       "25%                           0.000000              0.000000   \n",
       "50%                           0.000000              0.000000   \n",
       "75%                           0.000000              0.000000   \n",
       "max                           1.000000              1.000000   \n",
       "\n",
       "       EDUCATION_Literate  EDUCATION_Post Graduate  \n",
       "count         1707.000000              1707.000000  \n",
       "mean             0.015231                 0.246632  \n",
       "std              0.122508                 0.431177  \n",
       "min              0.000000                 0.000000  \n",
       "25%              0.000000                 0.000000  \n",
       "50%              0.000000                 0.000000  \n",
       "75%              0.000000                 0.000000  \n",
       "max              1.000000                 1.000000  \n",
       "\n",
       "[8 rows x 37 columns]"
      ]
     },
     "execution_count": 67,
     "metadata": {},
     "output_type": "execute_result"
    }
   ],
   "source": [
    "df.describe()"
   ]
  },
  {
   "cell_type": "markdown",
   "id": "a4d46fdf",
   "metadata": {},
   "source": [
    "#### Decision Tree"
   ]
  },
  {
   "cell_type": "code",
   "execution_count": 68,
   "id": "6e4bf14d",
   "metadata": {},
   "outputs": [
    {
     "name": "stdout",
     "output_type": "stream",
     "text": [
      "Accuracy is :  0.7868852459016393\n"
     ]
    }
   ],
   "source": [
    "from sklearn.tree import DecisionTreeClassifier\n",
    "dt_model = DecisionTreeClassifier()\n",
    "dt_model.fit(X_train,y_train)\n",
    "y_pred=dt_model.predict(X_test)\n",
    "print('Accuracy is : ',accuracy_score(y_test,y_pred))"
   ]
  },
  {
   "cell_type": "code",
   "execution_count": 69,
   "id": "9e4f22eb",
   "metadata": {},
   "outputs": [
    {
     "data": {
      "text/plain": [
       "array([[273,  60],\n",
       "       [ 31,  63]], dtype=int64)"
      ]
     },
     "execution_count": 69,
     "metadata": {},
     "output_type": "execute_result"
    }
   ],
   "source": [
    "confusion_matrix(y_test,y_pred)"
   ]
  },
  {
   "cell_type": "markdown",
   "id": "cca6b88b",
   "metadata": {},
   "source": [
    "#### SVM"
   ]
  },
  {
   "cell_type": "markdown",
   "id": "08fb862e",
   "metadata": {},
   "source": [
    "Linear SVM"
   ]
  },
  {
   "cell_type": "code",
   "execution_count": 70,
   "id": "cdb8edd2",
   "metadata": {},
   "outputs": [
    {
     "name": "stdout",
     "output_type": "stream",
     "text": [
      "Accuracy using linear svm is:  0.8711943793911007\n"
     ]
    }
   ],
   "source": [
    "from sklearn.svm import SVC\n",
    "svm_linear = SVC(kernel ='linear')\n",
    "svm_linear.fit(X_train,y_train)\n",
    "y_pred =svm_linear.predict(X_test)\n",
    "print('Accuracy using linear svm is: ',accuracy_score(y_test,y_pred))"
   ]
  },
  {
   "cell_type": "markdown",
   "id": "24eb12c7",
   "metadata": {},
   "source": [
    "#### Random Forest"
   ]
  },
  {
   "cell_type": "code",
   "execution_count": 71,
   "id": "5fe792a0",
   "metadata": {},
   "outputs": [
    {
     "name": "stdout",
     "output_type": "stream",
     "text": [
      "Accuracy: 0.8711943793911007\n"
     ]
    }
   ],
   "source": [
    "#Import Random Forest Model\n",
    "from sklearn.ensemble import RandomForestClassifier\n",
    "#Create a Gaussian Classifier\n",
    "clf=RandomForestClassifier(n_estimators=100)\n",
    "clf.fit(X_train,y_train)\n",
    "y_pred=clf.predict(X_test)\n",
    "print(\"Accuracy:\",accuracy_score(y_test, y_pred))"
   ]
  },
  {
   "cell_type": "markdown",
   "id": "b337416b",
   "metadata": {},
   "source": [
    "#### Gradient Boosting"
   ]
  },
  {
   "cell_type": "code",
   "execution_count": 72,
   "id": "eb0c3a50",
   "metadata": {},
   "outputs": [],
   "source": [
    "from sklearn.ensemble  import GradientBoostingClassifier\n",
    "gb = GradientBoostingClassifier()"
   ]
  },
  {
   "cell_type": "code",
   "execution_count": 73,
   "id": "338b1c71",
   "metadata": {},
   "outputs": [
    {
     "name": "stdout",
     "output_type": "stream",
     "text": [
      "Accuracy: 0.8711943793911007\n"
     ]
    }
   ],
   "source": [
    "gb.fit(X_train,y_train)\n",
    "y_pred=clf.predict(X_test)\n",
    "print(\"Accuracy:\",accuracy_score(y_test, y_pred))"
   ]
  },
  {
   "cell_type": "markdown",
   "id": "b059d1d3",
   "metadata": {},
   "source": [
    "Since all has similar accuracy, lets choose random forest and finde tune it"
   ]
  },
  {
   "cell_type": "markdown",
   "id": "7435c8f0",
   "metadata": {},
   "source": [
    "# 5. Model Fine Tuning"
   ]
  },
  {
   "cell_type": "markdown",
   "id": "215fe581",
   "metadata": {},
   "source": [
    "##### Random Classifier Fine Tuning"
   ]
  },
  {
   "cell_type": "code",
   "execution_count": 74,
   "id": "d18505b5",
   "metadata": {},
   "outputs": [
    {
     "data": {
      "text/plain": [
       "RandomForestClassifier(criterion='entropy', max_depth=10, n_estimators=500,\n",
       "                       random_state=42)"
      ]
     },
     "execution_count": 74,
     "metadata": {},
     "output_type": "execute_result"
    }
   ],
   "source": [
    "clf=RandomForestClassifier(n_estimators=500,max_depth=10,random_state=42,criterion='entropy')\n",
    "clf.fit(X_train,y_train)"
   ]
  },
  {
   "cell_type": "code",
   "execution_count": 75,
   "id": "d890bb30",
   "metadata": {},
   "outputs": [
    {
     "name": "stdout",
     "output_type": "stream",
     "text": [
      "Accuracy: 0.8852459016393442\n"
     ]
    }
   ],
   "source": [
    "y_pred=clf.predict(X_test)\n",
    "print(\"Accuracy:\",accuracy_score(y_test, y_pred))"
   ]
  },
  {
   "cell_type": "markdown",
   "id": "ba3bd69a",
   "metadata": {},
   "source": [
    "There is an improvement in our accuracy of model\n",
    "\n"
   ]
  },
  {
   "cell_type": "markdown",
   "id": "81258cf3",
   "metadata": {},
   "source": [
    "##### Gradient Boosting Fine Tuning"
   ]
  },
  {
   "cell_type": "code",
   "execution_count": 76,
   "id": "a37220bf",
   "metadata": {},
   "outputs": [],
   "source": [
    "gb = GradientBoostingClassifier(max_depth=10,learning_rate=.5,n_estimators=500)"
   ]
  },
  {
   "cell_type": "code",
   "execution_count": 77,
   "id": "78f02e98",
   "metadata": {},
   "outputs": [
    {
     "name": "stdout",
     "output_type": "stream",
     "text": [
      "Accuracy: 0.8852459016393442\n"
     ]
    }
   ],
   "source": [
    "gb.fit(X_train,y_train)\n",
    "y_pred=clf.predict(X_test)\n",
    "print(\"Accuracy:\",accuracy_score(y_test, y_pred))"
   ]
  },
  {
   "cell_type": "markdown",
   "id": "871a71d3",
   "metadata": {},
   "source": [
    "Accuracy increased"
   ]
  },
  {
   "cell_type": "code",
   "execution_count": null,
   "id": "75c16f98",
   "metadata": {},
   "outputs": [],
   "source": []
  }
 ],
 "metadata": {
  "kernelspec": {
   "display_name": "Python 3",
   "language": "python",
   "name": "python3"
  },
  "language_info": {
   "codemirror_mode": {
    "name": "ipython",
    "version": 3
   },
   "file_extension": ".py",
   "mimetype": "text/x-python",
   "name": "python",
   "nbconvert_exporter": "python",
   "pygments_lexer": "ipython3",
   "version": "3.8.8"
  }
 },
 "nbformat": 4,
 "nbformat_minor": 5
}
